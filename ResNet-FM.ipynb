{
 "cells": [
  {
   "cell_type": "code",
   "execution_count": 1,
   "id": "c1e143a2-16d9-4ed3-9d08-99fa9e7abced",
   "metadata": {
    "tags": []
   },
   "outputs": [
    {
     "name": "stdout",
     "output_type": "stream",
     "text": [
      "Fold 1\n"
     ]
    },
    {
     "name": "stderr",
     "output_type": "stream",
     "text": [
      "100%|██████████| 83/83 [01:11<00:00,  1.17it/s]\n",
      "100%|██████████| 21/21 [00:18<00:00,  1.16it/s]\n"
     ]
    },
    {
     "name": "stdout",
     "output_type": "stream",
     "text": [
      "Epoch 1, Train Loss: 0.8938, Val Loss: 0.7737\n"
     ]
    },
    {
     "name": "stderr",
     "output_type": "stream",
     "text": [
      "100%|██████████| 83/83 [01:09<00:00,  1.19it/s]\n",
      "100%|██████████| 21/21 [00:18<00:00,  1.15it/s]\n"
     ]
    },
    {
     "name": "stdout",
     "output_type": "stream",
     "text": [
      "Epoch 2, Train Loss: 0.7001, Val Loss: 0.6943\n"
     ]
    },
    {
     "name": "stderr",
     "output_type": "stream",
     "text": [
      "100%|██████████| 83/83 [01:09<00:00,  1.20it/s]\n",
      "100%|██████████| 21/21 [00:18<00:00,  1.14it/s]\n"
     ]
    },
    {
     "name": "stdout",
     "output_type": "stream",
     "text": [
      "Epoch 3, Train Loss: 0.6339, Val Loss: 0.6486\n"
     ]
    },
    {
     "name": "stderr",
     "output_type": "stream",
     "text": [
      "100%|██████████| 83/83 [01:09<00:00,  1.19it/s]\n",
      "100%|██████████| 21/21 [00:18<00:00,  1.15it/s]\n"
     ]
    },
    {
     "name": "stdout",
     "output_type": "stream",
     "text": [
      "Epoch 4, Train Loss: 0.5804, Val Loss: 0.6358\n"
     ]
    },
    {
     "name": "stderr",
     "output_type": "stream",
     "text": [
      "100%|██████████| 83/83 [01:08<00:00,  1.21it/s]\n",
      "100%|██████████| 21/21 [00:17<00:00,  1.17it/s]\n"
     ]
    },
    {
     "name": "stdout",
     "output_type": "stream",
     "text": [
      "Epoch 5, Train Loss: 0.5529, Val Loss: 0.6146\n"
     ]
    },
    {
     "name": "stderr",
     "output_type": "stream",
     "text": [
      "100%|██████████| 83/83 [01:08<00:00,  1.21it/s]\n",
      "100%|██████████| 21/21 [00:17<00:00,  1.17it/s]\n"
     ]
    },
    {
     "name": "stdout",
     "output_type": "stream",
     "text": [
      "Epoch 6, Train Loss: 0.5123, Val Loss: 0.6357\n"
     ]
    },
    {
     "name": "stderr",
     "output_type": "stream",
     "text": [
      "100%|██████████| 83/83 [01:09<00:00,  1.20it/s]\n",
      "100%|██████████| 21/21 [00:17<00:00,  1.17it/s]\n"
     ]
    },
    {
     "name": "stdout",
     "output_type": "stream",
     "text": [
      "Epoch 7, Train Loss: 0.4979, Val Loss: 0.6004\n"
     ]
    },
    {
     "name": "stderr",
     "output_type": "stream",
     "text": [
      "100%|██████████| 83/83 [01:10<00:00,  1.17it/s]\n",
      "100%|██████████| 21/21 [00:18<00:00,  1.13it/s]\n"
     ]
    },
    {
     "name": "stdout",
     "output_type": "stream",
     "text": [
      "Epoch 8, Train Loss: 0.4658, Val Loss: 0.5795\n"
     ]
    },
    {
     "name": "stderr",
     "output_type": "stream",
     "text": [
      "100%|██████████| 83/83 [01:10<00:00,  1.18it/s]\n",
      "100%|██████████| 21/21 [00:18<00:00,  1.15it/s]\n"
     ]
    },
    {
     "name": "stdout",
     "output_type": "stream",
     "text": [
      "Epoch 9, Train Loss: 0.4446, Val Loss: 0.5750\n"
     ]
    },
    {
     "name": "stderr",
     "output_type": "stream",
     "text": [
      "100%|██████████| 83/83 [01:10<00:00,  1.18it/s]\n",
      "100%|██████████| 21/21 [00:18<00:00,  1.17it/s]\n"
     ]
    },
    {
     "name": "stdout",
     "output_type": "stream",
     "text": [
      "Epoch 10, Train Loss: 0.4406, Val Loss: 0.5724\n"
     ]
    },
    {
     "name": "stderr",
     "output_type": "stream",
     "text": [
      "100%|██████████| 83/83 [01:09<00:00,  1.19it/s]\n",
      "100%|██████████| 21/21 [00:18<00:00,  1.15it/s]\n"
     ]
    },
    {
     "name": "stdout",
     "output_type": "stream",
     "text": [
      "Epoch 11, Train Loss: 0.4164, Val Loss: 0.5750\n"
     ]
    },
    {
     "name": "stderr",
     "output_type": "stream",
     "text": [
      "100%|██████████| 83/83 [01:10<00:00,  1.17it/s]\n",
      "100%|██████████| 21/21 [00:18<00:00,  1.11it/s]\n"
     ]
    },
    {
     "name": "stdout",
     "output_type": "stream",
     "text": [
      "Epoch 12, Train Loss: 0.4082, Val Loss: 0.5709\n"
     ]
    },
    {
     "name": "stderr",
     "output_type": "stream",
     "text": [
      "100%|██████████| 83/83 [01:09<00:00,  1.19it/s]\n",
      "100%|██████████| 21/21 [00:18<00:00,  1.16it/s]\n"
     ]
    },
    {
     "name": "stdout",
     "output_type": "stream",
     "text": [
      "Epoch 13, Train Loss: 0.4037, Val Loss: 0.5650\n"
     ]
    },
    {
     "name": "stderr",
     "output_type": "stream",
     "text": [
      "100%|██████████| 83/83 [01:08<00:00,  1.20it/s]\n",
      "100%|██████████| 21/21 [00:17<00:00,  1.17it/s]\n"
     ]
    },
    {
     "name": "stdout",
     "output_type": "stream",
     "text": [
      "Epoch 14, Train Loss: 0.3881, Val Loss: 0.5637\n"
     ]
    },
    {
     "name": "stderr",
     "output_type": "stream",
     "text": [
      "100%|██████████| 83/83 [01:08<00:00,  1.20it/s]\n",
      "100%|██████████| 21/21 [00:17<00:00,  1.17it/s]\n"
     ]
    },
    {
     "name": "stdout",
     "output_type": "stream",
     "text": [
      "Epoch 15, Train Loss: 0.3730, Val Loss: 0.5637\n"
     ]
    },
    {
     "name": "stderr",
     "output_type": "stream",
     "text": [
      "100%|██████████| 83/83 [01:09<00:00,  1.20it/s]\n",
      "100%|██████████| 21/21 [00:18<00:00,  1.16it/s]\n"
     ]
    },
    {
     "name": "stdout",
     "output_type": "stream",
     "text": [
      "Epoch 16, Train Loss: 0.3707, Val Loss: 0.5706\n"
     ]
    },
    {
     "name": "stderr",
     "output_type": "stream",
     "text": [
      "100%|██████████| 83/83 [01:09<00:00,  1.19it/s]\n",
      "100%|██████████| 21/21 [00:18<00:00,  1.14it/s]\n"
     ]
    },
    {
     "name": "stdout",
     "output_type": "stream",
     "text": [
      "Epoch 17, Train Loss: 0.3586, Val Loss: 0.5671\n"
     ]
    },
    {
     "name": "stderr",
     "output_type": "stream",
     "text": [
      "100%|██████████| 83/83 [01:10<00:00,  1.18it/s]\n",
      "100%|██████████| 21/21 [00:18<00:00,  1.15it/s]\n"
     ]
    },
    {
     "name": "stdout",
     "output_type": "stream",
     "text": [
      "Epoch 18, Train Loss: 0.3542, Val Loss: 0.5669\n"
     ]
    },
    {
     "name": "stderr",
     "output_type": "stream",
     "text": [
      "100%|██████████| 83/83 [01:10<00:00,  1.18it/s]\n",
      "100%|██████████| 21/21 [00:18<00:00,  1.11it/s]\n"
     ]
    },
    {
     "name": "stdout",
     "output_type": "stream",
     "text": [
      "Epoch 19, Train Loss: 0.3458, Val Loss: 0.5743\n"
     ]
    },
    {
     "name": "stderr",
     "output_type": "stream",
     "text": [
      "100%|██████████| 83/83 [01:10<00:00,  1.18it/s]\n",
      "100%|██████████| 21/21 [00:18<00:00,  1.15it/s]\n"
     ]
    },
    {
     "name": "stdout",
     "output_type": "stream",
     "text": [
      "Epoch 20, Train Loss: 0.3420, Val Loss: 0.5652\n",
      "Best model found at epoch 14\n",
      "Val Loss: 0.5637 Acc: 0.7663 Precision: 0.7720 Recall: 0.7663 F1: 0.7643 AUC: 0.9083\n",
      "Val Class benign Acc: 0.7876 Precision: 0.7287 Recall: 0.6062 F1: 0.6618 AUC: 0.8461\n",
      "Val Class malignant Acc: 0.9347 Precision: 0.9143 Recall: 0.8511 F1: 0.8815 AUC: 0.9722\n",
      "Val Class normal Acc: 0.8103 Precision: 0.7027 Recall: 0.8490 F1: 0.7689 AUC: 0.8944\n",
      "Fold 2\n"
     ]
    },
    {
     "name": "stderr",
     "output_type": "stream",
     "text": [
      "100%|██████████| 83/83 [01:11<00:00,  1.15it/s]\n",
      "100%|██████████| 21/21 [00:16<00:00,  1.24it/s]\n"
     ]
    },
    {
     "name": "stdout",
     "output_type": "stream",
     "text": [
      "Epoch 1, Train Loss: 0.8788, Val Loss: 0.7661\n"
     ]
    },
    {
     "name": "stderr",
     "output_type": "stream",
     "text": [
      "100%|██████████| 83/83 [01:11<00:00,  1.16it/s]\n",
      "100%|██████████| 21/21 [00:17<00:00,  1.23it/s]\n"
     ]
    },
    {
     "name": "stdout",
     "output_type": "stream",
     "text": [
      "Epoch 2, Train Loss: 0.6920, Val Loss: 0.6903\n"
     ]
    },
    {
     "name": "stderr",
     "output_type": "stream",
     "text": [
      "100%|██████████| 83/83 [01:12<00:00,  1.15it/s]\n",
      "100%|██████████| 21/21 [00:17<00:00,  1.22it/s]\n"
     ]
    },
    {
     "name": "stdout",
     "output_type": "stream",
     "text": [
      "Epoch 3, Train Loss: 0.6167, Val Loss: 0.6556\n"
     ]
    },
    {
     "name": "stderr",
     "output_type": "stream",
     "text": [
      "100%|██████████| 83/83 [01:12<00:00,  1.15it/s]\n",
      "100%|██████████| 21/21 [00:17<00:00,  1.20it/s]\n"
     ]
    },
    {
     "name": "stdout",
     "output_type": "stream",
     "text": [
      "Epoch 4, Train Loss: 0.5772, Val Loss: 0.6348\n"
     ]
    },
    {
     "name": "stderr",
     "output_type": "stream",
     "text": [
      "100%|██████████| 83/83 [01:12<00:00,  1.15it/s]\n",
      "100%|██████████| 21/21 [00:17<00:00,  1.20it/s]\n"
     ]
    },
    {
     "name": "stdout",
     "output_type": "stream",
     "text": [
      "Epoch 5, Train Loss: 0.5417, Val Loss: 0.6172\n"
     ]
    },
    {
     "name": "stderr",
     "output_type": "stream",
     "text": [
      "100%|██████████| 83/83 [01:11<00:00,  1.15it/s]\n",
      "100%|██████████| 21/21 [00:17<00:00,  1.22it/s]\n"
     ]
    },
    {
     "name": "stdout",
     "output_type": "stream",
     "text": [
      "Epoch 6, Train Loss: 0.5073, Val Loss: 0.6002\n"
     ]
    },
    {
     "name": "stderr",
     "output_type": "stream",
     "text": [
      "100%|██████████| 83/83 [01:11<00:00,  1.15it/s]\n",
      "100%|██████████| 21/21 [00:17<00:00,  1.23it/s]\n"
     ]
    },
    {
     "name": "stdout",
     "output_type": "stream",
     "text": [
      "Epoch 7, Train Loss: 0.5003, Val Loss: 0.5959\n"
     ]
    },
    {
     "name": "stderr",
     "output_type": "stream",
     "text": [
      "100%|██████████| 83/83 [01:12<00:00,  1.15it/s]\n",
      "100%|██████████| 21/21 [00:17<00:00,  1.21it/s]\n"
     ]
    },
    {
     "name": "stdout",
     "output_type": "stream",
     "text": [
      "Epoch 8, Train Loss: 0.4642, Val Loss: 0.5992\n"
     ]
    },
    {
     "name": "stderr",
     "output_type": "stream",
     "text": [
      "100%|██████████| 83/83 [01:12<00:00,  1.15it/s]\n",
      "100%|██████████| 21/21 [00:16<00:00,  1.24it/s]\n"
     ]
    },
    {
     "name": "stdout",
     "output_type": "stream",
     "text": [
      "Epoch 9, Train Loss: 0.4523, Val Loss: 0.5849\n"
     ]
    },
    {
     "name": "stderr",
     "output_type": "stream",
     "text": [
      "100%|██████████| 83/83 [01:11<00:00,  1.16it/s]\n",
      "100%|██████████| 21/21 [00:16<00:00,  1.24it/s]\n"
     ]
    },
    {
     "name": "stdout",
     "output_type": "stream",
     "text": [
      "Epoch 10, Train Loss: 0.4424, Val Loss: 0.5894\n"
     ]
    },
    {
     "name": "stderr",
     "output_type": "stream",
     "text": [
      "100%|██████████| 83/83 [01:11<00:00,  1.16it/s]\n",
      "100%|██████████| 21/21 [00:16<00:00,  1.24it/s]\n"
     ]
    },
    {
     "name": "stdout",
     "output_type": "stream",
     "text": [
      "Epoch 11, Train Loss: 0.4301, Val Loss: 0.5750\n"
     ]
    },
    {
     "name": "stderr",
     "output_type": "stream",
     "text": [
      "100%|██████████| 83/83 [01:12<00:00,  1.15it/s]\n",
      "100%|██████████| 21/21 [00:18<00:00,  1.11it/s]\n"
     ]
    },
    {
     "name": "stdout",
     "output_type": "stream",
     "text": [
      "Epoch 12, Train Loss: 0.4152, Val Loss: 0.5820\n"
     ]
    },
    {
     "name": "stderr",
     "output_type": "stream",
     "text": [
      "100%|██████████| 83/83 [01:11<00:00,  1.16it/s]\n",
      "100%|██████████| 21/21 [00:17<00:00,  1.19it/s]\n"
     ]
    },
    {
     "name": "stdout",
     "output_type": "stream",
     "text": [
      "Epoch 13, Train Loss: 0.4032, Val Loss: 0.5723\n"
     ]
    },
    {
     "name": "stderr",
     "output_type": "stream",
     "text": [
      "100%|██████████| 83/83 [01:12<00:00,  1.15it/s]\n",
      "100%|██████████| 21/21 [00:17<00:00,  1.17it/s]\n"
     ]
    },
    {
     "name": "stdout",
     "output_type": "stream",
     "text": [
      "Epoch 14, Train Loss: 0.3882, Val Loss: 0.5638\n"
     ]
    },
    {
     "name": "stderr",
     "output_type": "stream",
     "text": [
      "100%|██████████| 83/83 [01:12<00:00,  1.14it/s]\n",
      "100%|██████████| 21/21 [00:17<00:00,  1.21it/s]\n"
     ]
    },
    {
     "name": "stdout",
     "output_type": "stream",
     "text": [
      "Epoch 15, Train Loss: 0.3764, Val Loss: 0.5740\n"
     ]
    },
    {
     "name": "stderr",
     "output_type": "stream",
     "text": [
      "100%|██████████| 83/83 [01:12<00:00,  1.14it/s]\n",
      "100%|██████████| 21/21 [00:17<00:00,  1.22it/s]\n"
     ]
    },
    {
     "name": "stdout",
     "output_type": "stream",
     "text": [
      "Epoch 16, Train Loss: 0.3688, Val Loss: 0.5576\n"
     ]
    },
    {
     "name": "stderr",
     "output_type": "stream",
     "text": [
      "100%|██████████| 83/83 [01:12<00:00,  1.15it/s]\n",
      "100%|██████████| 21/21 [00:17<00:00,  1.22it/s]\n"
     ]
    },
    {
     "name": "stdout",
     "output_type": "stream",
     "text": [
      "Epoch 17, Train Loss: 0.3569, Val Loss: 0.5671\n"
     ]
    },
    {
     "name": "stderr",
     "output_type": "stream",
     "text": [
      "100%|██████████| 83/83 [01:12<00:00,  1.15it/s]\n",
      "100%|██████████| 21/21 [00:17<00:00,  1.20it/s]\n"
     ]
    },
    {
     "name": "stdout",
     "output_type": "stream",
     "text": [
      "Epoch 18, Train Loss: 0.3524, Val Loss: 0.5774\n"
     ]
    },
    {
     "name": "stderr",
     "output_type": "stream",
     "text": [
      "100%|██████████| 83/83 [01:13<00:00,  1.13it/s]\n",
      "100%|██████████| 21/21 [00:17<00:00,  1.23it/s]\n"
     ]
    },
    {
     "name": "stdout",
     "output_type": "stream",
     "text": [
      "Epoch 19, Train Loss: 0.3465, Val Loss: 0.5751\n"
     ]
    },
    {
     "name": "stderr",
     "output_type": "stream",
     "text": [
      "100%|██████████| 83/83 [01:11<00:00,  1.16it/s]\n",
      "100%|██████████| 21/21 [00:16<00:00,  1.24it/s]\n"
     ]
    },
    {
     "name": "stdout",
     "output_type": "stream",
     "text": [
      "Epoch 20, Train Loss: 0.3397, Val Loss: 0.5615\n",
      "Best model found at epoch 15\n",
      "Val Loss: 0.5576 Acc: 0.7572 Precision: 0.7561 Recall: 0.7572 F1: 0.7561 AUC: 0.9046\n",
      "Val Class benign Acc: 0.7891 Precision: 0.6500 Recall: 0.6062 F1: 0.6273 AUC: 0.8443\n",
      "Val Class malignant Acc: 0.9105 Precision: 0.8643 Recall: 0.8431 F1: 0.8536 AUC: 0.9585\n",
      "Val Class normal Acc: 0.8149 Precision: 0.7500 Recall: 0.8015 F1: 0.7749 AUC: 0.9100\n",
      "Fold 3\n"
     ]
    },
    {
     "name": "stderr",
     "output_type": "stream",
     "text": [
      "100%|██████████| 83/83 [01:10<00:00,  1.17it/s]\n",
      "100%|██████████| 21/21 [00:17<00:00,  1.19it/s]\n"
     ]
    },
    {
     "name": "stdout",
     "output_type": "stream",
     "text": [
      "Epoch 1, Train Loss: 0.8981, Val Loss: 0.7742\n"
     ]
    },
    {
     "name": "stderr",
     "output_type": "stream",
     "text": [
      "100%|██████████| 83/83 [01:11<00:00,  1.17it/s]\n",
      "100%|██████████| 21/21 [00:17<00:00,  1.18it/s]\n"
     ]
    },
    {
     "name": "stdout",
     "output_type": "stream",
     "text": [
      "Epoch 2, Train Loss: 0.7177, Val Loss: 0.6949\n"
     ]
    },
    {
     "name": "stderr",
     "output_type": "stream",
     "text": [
      "100%|██████████| 83/83 [01:10<00:00,  1.17it/s]\n",
      "100%|██████████| 21/21 [00:18<00:00,  1.16it/s]\n"
     ]
    },
    {
     "name": "stdout",
     "output_type": "stream",
     "text": [
      "Epoch 3, Train Loss: 0.6396, Val Loss: 0.6521\n"
     ]
    },
    {
     "name": "stderr",
     "output_type": "stream",
     "text": [
      "100%|██████████| 83/83 [01:10<00:00,  1.17it/s]\n",
      "100%|██████████| 21/21 [00:17<00:00,  1.19it/s]\n"
     ]
    },
    {
     "name": "stdout",
     "output_type": "stream",
     "text": [
      "Epoch 4, Train Loss: 0.5792, Val Loss: 0.6298\n"
     ]
    },
    {
     "name": "stderr",
     "output_type": "stream",
     "text": [
      "100%|██████████| 83/83 [01:10<00:00,  1.17it/s]\n",
      "100%|██████████| 21/21 [00:17<00:00,  1.20it/s]\n"
     ]
    },
    {
     "name": "stdout",
     "output_type": "stream",
     "text": [
      "Epoch 5, Train Loss: 0.5451, Val Loss: 0.6112\n"
     ]
    },
    {
     "name": "stderr",
     "output_type": "stream",
     "text": [
      "100%|██████████| 83/83 [01:10<00:00,  1.18it/s]\n",
      "100%|██████████| 21/21 [00:17<00:00,  1.20it/s]\n"
     ]
    },
    {
     "name": "stdout",
     "output_type": "stream",
     "text": [
      "Epoch 6, Train Loss: 0.5215, Val Loss: 0.6180\n"
     ]
    },
    {
     "name": "stderr",
     "output_type": "stream",
     "text": [
      "100%|██████████| 83/83 [01:11<00:00,  1.15it/s]\n",
      "100%|██████████| 21/21 [00:17<00:00,  1.20it/s]\n"
     ]
    },
    {
     "name": "stdout",
     "output_type": "stream",
     "text": [
      "Epoch 7, Train Loss: 0.4954, Val Loss: 0.5872\n"
     ]
    },
    {
     "name": "stderr",
     "output_type": "stream",
     "text": [
      "100%|██████████| 83/83 [01:10<00:00,  1.18it/s]\n",
      "100%|██████████| 21/21 [00:17<00:00,  1.20it/s]\n"
     ]
    },
    {
     "name": "stdout",
     "output_type": "stream",
     "text": [
      "Epoch 8, Train Loss: 0.4846, Val Loss: 0.5767\n"
     ]
    },
    {
     "name": "stderr",
     "output_type": "stream",
     "text": [
      "100%|██████████| 83/83 [01:10<00:00,  1.18it/s]\n",
      "100%|██████████| 21/21 [00:17<00:00,  1.17it/s]\n"
     ]
    },
    {
     "name": "stdout",
     "output_type": "stream",
     "text": [
      "Epoch 9, Train Loss: 0.4672, Val Loss: 0.5690\n"
     ]
    },
    {
     "name": "stderr",
     "output_type": "stream",
     "text": [
      "100%|██████████| 83/83 [01:11<00:00,  1.16it/s]\n",
      "100%|██████████| 21/21 [00:17<00:00,  1.19it/s]\n"
     ]
    },
    {
     "name": "stdout",
     "output_type": "stream",
     "text": [
      "Epoch 10, Train Loss: 0.4512, Val Loss: 0.5671\n"
     ]
    },
    {
     "name": "stderr",
     "output_type": "stream",
     "text": [
      "100%|██████████| 83/83 [01:11<00:00,  1.16it/s]\n",
      "100%|██████████| 21/21 [00:17<00:00,  1.20it/s]\n"
     ]
    },
    {
     "name": "stdout",
     "output_type": "stream",
     "text": [
      "Epoch 11, Train Loss: 0.4351, Val Loss: 0.5559\n"
     ]
    },
    {
     "name": "stderr",
     "output_type": "stream",
     "text": [
      "100%|██████████| 83/83 [01:12<00:00,  1.15it/s]\n",
      "100%|██████████| 21/21 [00:18<00:00,  1.15it/s]\n"
     ]
    },
    {
     "name": "stdout",
     "output_type": "stream",
     "text": [
      "Epoch 12, Train Loss: 0.4209, Val Loss: 0.5574\n"
     ]
    },
    {
     "name": "stderr",
     "output_type": "stream",
     "text": [
      "100%|██████████| 83/83 [01:11<00:00,  1.16it/s]\n",
      "100%|██████████| 21/21 [00:17<00:00,  1.18it/s]\n"
     ]
    },
    {
     "name": "stdout",
     "output_type": "stream",
     "text": [
      "Epoch 13, Train Loss: 0.4085, Val Loss: 0.5542\n"
     ]
    },
    {
     "name": "stderr",
     "output_type": "stream",
     "text": [
      "100%|██████████| 83/83 [01:12<00:00,  1.15it/s]\n",
      "100%|██████████| 21/21 [00:18<00:00,  1.16it/s]\n"
     ]
    },
    {
     "name": "stdout",
     "output_type": "stream",
     "text": [
      "Epoch 14, Train Loss: 0.4004, Val Loss: 0.5487\n"
     ]
    },
    {
     "name": "stderr",
     "output_type": "stream",
     "text": [
      "100%|██████████| 83/83 [01:10<00:00,  1.17it/s]\n",
      "100%|██████████| 21/21 [00:17<00:00,  1.20it/s]\n"
     ]
    },
    {
     "name": "stdout",
     "output_type": "stream",
     "text": [
      "Epoch 15, Train Loss: 0.3902, Val Loss: 0.5512\n"
     ]
    },
    {
     "name": "stderr",
     "output_type": "stream",
     "text": [
      "100%|██████████| 83/83 [01:11<00:00,  1.17it/s]\n",
      "100%|██████████| 21/21 [00:17<00:00,  1.21it/s]\n"
     ]
    },
    {
     "name": "stdout",
     "output_type": "stream",
     "text": [
      "Epoch 16, Train Loss: 0.3738, Val Loss: 0.5447\n"
     ]
    },
    {
     "name": "stderr",
     "output_type": "stream",
     "text": [
      "100%|██████████| 83/83 [01:10<00:00,  1.17it/s]\n",
      "100%|██████████| 21/21 [00:17<00:00,  1.20it/s]\n"
     ]
    },
    {
     "name": "stdout",
     "output_type": "stream",
     "text": [
      "Epoch 17, Train Loss: 0.3702, Val Loss: 0.5457\n"
     ]
    },
    {
     "name": "stderr",
     "output_type": "stream",
     "text": [
      "100%|██████████| 83/83 [01:10<00:00,  1.18it/s]\n",
      "100%|██████████| 21/21 [00:17<00:00,  1.20it/s]\n"
     ]
    },
    {
     "name": "stdout",
     "output_type": "stream",
     "text": [
      "Epoch 18, Train Loss: 0.3541, Val Loss: 0.5440\n"
     ]
    },
    {
     "name": "stderr",
     "output_type": "stream",
     "text": [
      "100%|██████████| 83/83 [01:10<00:00,  1.17it/s]\n",
      "100%|██████████| 21/21 [00:17<00:00,  1.19it/s]\n"
     ]
    },
    {
     "name": "stdout",
     "output_type": "stream",
     "text": [
      "Epoch 19, Train Loss: 0.3497, Val Loss: 0.5518\n"
     ]
    },
    {
     "name": "stderr",
     "output_type": "stream",
     "text": [
      "100%|██████████| 83/83 [01:11<00:00,  1.17it/s]\n",
      "100%|██████████| 21/21 [00:17<00:00,  1.20it/s]\n"
     ]
    },
    {
     "name": "stdout",
     "output_type": "stream",
     "text": [
      "Epoch 20, Train Loss: 0.3428, Val Loss: 0.5472\n",
      "Best model found at epoch 17\n",
      "Val Loss: 0.5440 Acc: 0.7538 Precision: 0.7493 Recall: 0.7538 F1: 0.7502 AUC: 0.9094\n",
      "Val Class benign Acc: 0.7812 Precision: 0.6629 Recall: 0.5771 F1: 0.6170 AUC: 0.8459\n",
      "Val Class malignant Acc: 0.9210 Precision: 0.8485 Recall: 0.8842 F1: 0.8660 AUC: 0.9734\n",
      "Val Class normal Acc: 0.8055 Precision: 0.7439 Recall: 0.7940 F1: 0.7681 AUC: 0.9010\n",
      "Fold 4\n"
     ]
    },
    {
     "name": "stderr",
     "output_type": "stream",
     "text": [
      "100%|██████████| 83/83 [01:10<00:00,  1.18it/s]\n",
      "100%|██████████| 21/21 [00:18<00:00,  1.15it/s]\n"
     ]
    },
    {
     "name": "stdout",
     "output_type": "stream",
     "text": [
      "Epoch 1, Train Loss: 0.8988, Val Loss: 0.7662\n"
     ]
    },
    {
     "name": "stderr",
     "output_type": "stream",
     "text": [
      "100%|██████████| 83/83 [01:10<00:00,  1.17it/s]\n",
      "100%|██████████| 21/21 [00:18<00:00,  1.14it/s]\n"
     ]
    },
    {
     "name": "stdout",
     "output_type": "stream",
     "text": [
      "Epoch 2, Train Loss: 0.7016, Val Loss: 0.6724\n"
     ]
    },
    {
     "name": "stderr",
     "output_type": "stream",
     "text": [
      "100%|██████████| 83/83 [01:10<00:00,  1.17it/s]\n",
      "100%|██████████| 21/21 [00:18<00:00,  1.13it/s]\n"
     ]
    },
    {
     "name": "stdout",
     "output_type": "stream",
     "text": [
      "Epoch 3, Train Loss: 0.6337, Val Loss: 0.6366\n"
     ]
    },
    {
     "name": "stderr",
     "output_type": "stream",
     "text": [
      "100%|██████████| 83/83 [01:10<00:00,  1.18it/s]\n",
      "100%|██████████| 21/21 [00:18<00:00,  1.13it/s]\n"
     ]
    },
    {
     "name": "stdout",
     "output_type": "stream",
     "text": [
      "Epoch 4, Train Loss: 0.5796, Val Loss: 0.6142\n"
     ]
    },
    {
     "name": "stderr",
     "output_type": "stream",
     "text": [
      "100%|██████████| 83/83 [01:10<00:00,  1.18it/s]\n",
      "100%|██████████| 21/21 [00:18<00:00,  1.15it/s]\n"
     ]
    },
    {
     "name": "stdout",
     "output_type": "stream",
     "text": [
      "Epoch 5, Train Loss: 0.5388, Val Loss: 0.5956\n"
     ]
    },
    {
     "name": "stderr",
     "output_type": "stream",
     "text": [
      "100%|██████████| 83/83 [01:11<00:00,  1.17it/s]\n",
      "100%|██████████| 21/21 [00:18<00:00,  1.13it/s]\n"
     ]
    },
    {
     "name": "stdout",
     "output_type": "stream",
     "text": [
      "Epoch 6, Train Loss: 0.5132, Val Loss: 0.5917\n"
     ]
    },
    {
     "name": "stderr",
     "output_type": "stream",
     "text": [
      "100%|██████████| 83/83 [01:10<00:00,  1.18it/s]\n",
      "100%|██████████| 21/21 [00:18<00:00,  1.15it/s]\n"
     ]
    },
    {
     "name": "stdout",
     "output_type": "stream",
     "text": [
      "Epoch 7, Train Loss: 0.4897, Val Loss: 0.5821\n"
     ]
    },
    {
     "name": "stderr",
     "output_type": "stream",
     "text": [
      "100%|██████████| 83/83 [01:11<00:00,  1.17it/s]\n",
      "100%|██████████| 21/21 [00:18<00:00,  1.15it/s]\n"
     ]
    },
    {
     "name": "stdout",
     "output_type": "stream",
     "text": [
      "Epoch 8, Train Loss: 0.4676, Val Loss: 0.5692\n"
     ]
    },
    {
     "name": "stderr",
     "output_type": "stream",
     "text": [
      "100%|██████████| 83/83 [01:10<00:00,  1.18it/s]\n",
      "100%|██████████| 21/21 [00:18<00:00,  1.15it/s]\n"
     ]
    },
    {
     "name": "stdout",
     "output_type": "stream",
     "text": [
      "Epoch 9, Train Loss: 0.4502, Val Loss: 0.5738\n"
     ]
    },
    {
     "name": "stderr",
     "output_type": "stream",
     "text": [
      "100%|██████████| 83/83 [01:10<00:00,  1.18it/s]\n",
      "100%|██████████| 21/21 [00:18<00:00,  1.15it/s]\n"
     ]
    },
    {
     "name": "stdout",
     "output_type": "stream",
     "text": [
      "Epoch 10, Train Loss: 0.4360, Val Loss: 0.5586\n"
     ]
    },
    {
     "name": "stderr",
     "output_type": "stream",
     "text": [
      "100%|██████████| 83/83 [01:10<00:00,  1.18it/s]\n",
      "100%|██████████| 21/21 [00:18<00:00,  1.14it/s]\n"
     ]
    },
    {
     "name": "stdout",
     "output_type": "stream",
     "text": [
      "Epoch 11, Train Loss: 0.4182, Val Loss: 0.5619\n"
     ]
    },
    {
     "name": "stderr",
     "output_type": "stream",
     "text": [
      "100%|██████████| 83/83 [01:11<00:00,  1.17it/s]\n",
      "100%|██████████| 21/21 [00:18<00:00,  1.14it/s]\n"
     ]
    },
    {
     "name": "stdout",
     "output_type": "stream",
     "text": [
      "Epoch 12, Train Loss: 0.4062, Val Loss: 0.5638\n"
     ]
    },
    {
     "name": "stderr",
     "output_type": "stream",
     "text": [
      "100%|██████████| 83/83 [01:10<00:00,  1.18it/s]\n",
      "100%|██████████| 21/21 [00:18<00:00,  1.15it/s]\n"
     ]
    },
    {
     "name": "stdout",
     "output_type": "stream",
     "text": [
      "Epoch 13, Train Loss: 0.3903, Val Loss: 0.5607\n"
     ]
    },
    {
     "name": "stderr",
     "output_type": "stream",
     "text": [
      "100%|██████████| 83/83 [01:10<00:00,  1.19it/s]\n",
      "100%|██████████| 21/21 [00:18<00:00,  1.15it/s]\n"
     ]
    },
    {
     "name": "stdout",
     "output_type": "stream",
     "text": [
      "Epoch 14, Train Loss: 0.3898, Val Loss: 0.5664\n"
     ]
    },
    {
     "name": "stderr",
     "output_type": "stream",
     "text": [
      "100%|██████████| 83/83 [01:10<00:00,  1.18it/s]\n",
      "100%|██████████| 21/21 [00:18<00:00,  1.14it/s]\n"
     ]
    },
    {
     "name": "stdout",
     "output_type": "stream",
     "text": [
      "Epoch 15, Train Loss: 0.3697, Val Loss: 0.5609\n"
     ]
    },
    {
     "name": "stderr",
     "output_type": "stream",
     "text": [
      "100%|██████████| 83/83 [01:10<00:00,  1.18it/s]\n",
      "100%|██████████| 21/21 [00:19<00:00,  1.10it/s]\n"
     ]
    },
    {
     "name": "stdout",
     "output_type": "stream",
     "text": [
      "Epoch 16, Train Loss: 0.3630, Val Loss: 0.5633\n"
     ]
    },
    {
     "name": "stderr",
     "output_type": "stream",
     "text": [
      "100%|██████████| 83/83 [01:09<00:00,  1.19it/s]\n",
      "100%|██████████| 21/21 [00:18<00:00,  1.14it/s]\n"
     ]
    },
    {
     "name": "stdout",
     "output_type": "stream",
     "text": [
      "Epoch 17, Train Loss: 0.3528, Val Loss: 0.5604\n"
     ]
    },
    {
     "name": "stderr",
     "output_type": "stream",
     "text": [
      "100%|██████████| 83/83 [01:10<00:00,  1.18it/s]\n",
      "100%|██████████| 21/21 [00:18<00:00,  1.12it/s]\n"
     ]
    },
    {
     "name": "stdout",
     "output_type": "stream",
     "text": [
      "Epoch 18, Train Loss: 0.3471, Val Loss: 0.5624\n"
     ]
    },
    {
     "name": "stderr",
     "output_type": "stream",
     "text": [
      "100%|██████████| 83/83 [01:09<00:00,  1.19it/s]\n",
      "100%|██████████| 21/21 [00:18<00:00,  1.15it/s]\n"
     ]
    },
    {
     "name": "stdout",
     "output_type": "stream",
     "text": [
      "Epoch 19, Train Loss: 0.3440, Val Loss: 0.5631\n"
     ]
    },
    {
     "name": "stderr",
     "output_type": "stream",
     "text": [
      "100%|██████████| 83/83 [01:10<00:00,  1.17it/s]\n",
      "100%|██████████| 21/21 [00:18<00:00,  1.13it/s]\n"
     ]
    },
    {
     "name": "stdout",
     "output_type": "stream",
     "text": [
      "Epoch 20, Train Loss: 0.3281, Val Loss: 0.5570\n",
      "Best model found at epoch 19\n",
      "Val Loss: 0.5570 Acc: 0.7584 Precision: 0.7565 Recall: 0.7584 F1: 0.7573 AUC: 0.9053\n",
      "Val Class benign Acc: 0.7796 Precision: 0.6515 Recall: 0.6293 F1: 0.6402 AUC: 0.8339\n",
      "Val Class malignant Acc: 0.9179 Precision: 0.8361 Recall: 0.8644 F1: 0.8500 AUC: 0.9705\n",
      "Val Class normal Acc: 0.8191 Precision: 0.7834 Recall: 0.7862 F1: 0.7848 AUC: 0.8991\n",
      "Fold 5\n"
     ]
    },
    {
     "name": "stderr",
     "output_type": "stream",
     "text": [
      "100%|██████████| 83/83 [01:12<00:00,  1.15it/s]\n",
      "100%|██████████| 21/21 [00:17<00:00,  1.23it/s]\n"
     ]
    },
    {
     "name": "stdout",
     "output_type": "stream",
     "text": [
      "Epoch 1, Train Loss: 0.8999, Val Loss: 0.7535\n"
     ]
    },
    {
     "name": "stderr",
     "output_type": "stream",
     "text": [
      "100%|██████████| 83/83 [01:11<00:00,  1.16it/s]\n",
      "100%|██████████| 21/21 [00:16<00:00,  1.25it/s]\n"
     ]
    },
    {
     "name": "stdout",
     "output_type": "stream",
     "text": [
      "Epoch 2, Train Loss: 0.7020, Val Loss: 0.6823\n"
     ]
    },
    {
     "name": "stderr",
     "output_type": "stream",
     "text": [
      "100%|██████████| 83/83 [01:12<00:00,  1.15it/s]\n",
      "100%|██████████| 21/21 [00:16<00:00,  1.25it/s]\n"
     ]
    },
    {
     "name": "stdout",
     "output_type": "stream",
     "text": [
      "Epoch 3, Train Loss: 0.6215, Val Loss: 0.6797\n"
     ]
    },
    {
     "name": "stderr",
     "output_type": "stream",
     "text": [
      "100%|██████████| 83/83 [01:11<00:00,  1.16it/s]\n",
      "100%|██████████| 21/21 [00:17<00:00,  1.23it/s]\n"
     ]
    },
    {
     "name": "stdout",
     "output_type": "stream",
     "text": [
      "Epoch 4, Train Loss: 0.5792, Val Loss: 0.6231\n"
     ]
    },
    {
     "name": "stderr",
     "output_type": "stream",
     "text": [
      "100%|██████████| 83/83 [01:11<00:00,  1.16it/s]\n",
      "100%|██████████| 21/21 [00:16<00:00,  1.25it/s]\n"
     ]
    },
    {
     "name": "stdout",
     "output_type": "stream",
     "text": [
      "Epoch 5, Train Loss: 0.5377, Val Loss: 0.6109\n"
     ]
    },
    {
     "name": "stderr",
     "output_type": "stream",
     "text": [
      "100%|██████████| 83/83 [01:11<00:00,  1.16it/s]\n",
      "100%|██████████| 21/21 [00:16<00:00,  1.24it/s]\n"
     ]
    },
    {
     "name": "stdout",
     "output_type": "stream",
     "text": [
      "Epoch 6, Train Loss: 0.5127, Val Loss: 0.6027\n"
     ]
    },
    {
     "name": "stderr",
     "output_type": "stream",
     "text": [
      "100%|██████████| 83/83 [01:12<00:00,  1.15it/s]\n",
      "100%|██████████| 21/21 [00:16<00:00,  1.24it/s]\n"
     ]
    },
    {
     "name": "stdout",
     "output_type": "stream",
     "text": [
      "Epoch 7, Train Loss: 0.4924, Val Loss: 0.5913\n"
     ]
    },
    {
     "name": "stderr",
     "output_type": "stream",
     "text": [
      "100%|██████████| 83/83 [01:11<00:00,  1.16it/s]\n",
      "100%|██████████| 21/21 [00:16<00:00,  1.26it/s]\n"
     ]
    },
    {
     "name": "stdout",
     "output_type": "stream",
     "text": [
      "Epoch 8, Train Loss: 0.4745, Val Loss: 0.5960\n"
     ]
    },
    {
     "name": "stderr",
     "output_type": "stream",
     "text": [
      "100%|██████████| 83/83 [01:11<00:00,  1.16it/s]\n",
      "100%|██████████| 21/21 [00:16<00:00,  1.25it/s]\n"
     ]
    },
    {
     "name": "stdout",
     "output_type": "stream",
     "text": [
      "Epoch 9, Train Loss: 0.4542, Val Loss: 0.5707\n"
     ]
    },
    {
     "name": "stderr",
     "output_type": "stream",
     "text": [
      "100%|██████████| 83/83 [01:11<00:00,  1.16it/s]\n",
      "100%|██████████| 21/21 [00:17<00:00,  1.23it/s]\n"
     ]
    },
    {
     "name": "stdout",
     "output_type": "stream",
     "text": [
      "Epoch 10, Train Loss: 0.4307, Val Loss: 0.5734\n"
     ]
    },
    {
     "name": "stderr",
     "output_type": "stream",
     "text": [
      "100%|██████████| 83/83 [01:11<00:00,  1.16it/s]\n",
      "100%|██████████| 21/21 [00:16<00:00,  1.24it/s]\n"
     ]
    },
    {
     "name": "stdout",
     "output_type": "stream",
     "text": [
      "Epoch 11, Train Loss: 0.4202, Val Loss: 0.5557\n"
     ]
    },
    {
     "name": "stderr",
     "output_type": "stream",
     "text": [
      "100%|██████████| 83/83 [01:11<00:00,  1.16it/s]\n",
      "100%|██████████| 83/83 [01:13<00:00,  1.14it/s]\n",
      "100%|██████████| 21/21 [00:16<00:00,  1.24it/s]\n"
     ]
    },
    {
     "name": "stdout",
     "output_type": "stream",
     "text": [
      "Epoch 14, Train Loss: 0.3861, Val Loss: 0.5541\n"
     ]
    },
    {
     "name": "stderr",
     "output_type": "stream",
     "text": [
      "100%|██████████| 83/83 [01:11<00:00,  1.17it/s]\n",
      "100%|██████████| 21/21 [00:16<00:00,  1.25it/s]\n"
     ]
    },
    {
     "name": "stdout",
     "output_type": "stream",
     "text": [
      "Epoch 15, Train Loss: 0.3798, Val Loss: 0.5532\n"
     ]
    },
    {
     "name": "stderr",
     "output_type": "stream",
     "text": [
      "100%|██████████| 83/83 [01:11<00:00,  1.16it/s]\n",
      "100%|██████████| 21/21 [00:17<00:00,  1.23it/s]\n"
     ]
    },
    {
     "name": "stdout",
     "output_type": "stream",
     "text": [
      "Epoch 16, Train Loss: 0.3718, Val Loss: 0.5577\n"
     ]
    },
    {
     "name": "stderr",
     "output_type": "stream",
     "text": [
      "100%|██████████| 83/83 [01:11<00:00,  1.17it/s]\n",
      "100%|██████████| 21/21 [00:16<00:00,  1.25it/s]\n"
     ]
    },
    {
     "name": "stdout",
     "output_type": "stream",
     "text": [
      "Epoch 17, Train Loss: 0.3582, Val Loss: 0.5466\n"
     ]
    },
    {
     "name": "stderr",
     "output_type": "stream",
     "text": [
      "100%|██████████| 83/83 [01:11<00:00,  1.16it/s]\n",
      "100%|██████████| 21/21 [00:16<00:00,  1.24it/s]\n"
     ]
    },
    {
     "name": "stdout",
     "output_type": "stream",
     "text": [
      "Epoch 18, Train Loss: 0.3584, Val Loss: 0.5485\n"
     ]
    },
    {
     "name": "stderr",
     "output_type": "stream",
     "text": [
      "100%|██████████| 83/83 [01:11<00:00,  1.16it/s]\n",
      "100%|██████████| 21/21 [00:17<00:00,  1.23it/s]\n"
     ]
    },
    {
     "name": "stdout",
     "output_type": "stream",
     "text": [
      "Epoch 19, Train Loss: 0.3371, Val Loss: 0.5547\n"
     ]
    },
    {
     "name": "stderr",
     "output_type": "stream",
     "text": [
      "100%|██████████| 83/83 [01:11<00:00,  1.16it/s]\n",
      "100%|██████████| 21/21 [00:16<00:00,  1.25it/s]\n"
     ]
    },
    {
     "name": "stdout",
     "output_type": "stream",
     "text": [
      "Epoch 20, Train Loss: 0.3404, Val Loss: 0.5476\n",
      "Best model found at epoch 16\n",
      "Val Loss: 0.5466 Acc: 0.7842 Precision: 0.7819 Recall: 0.7842 F1: 0.7827 AUC: 0.9108\n",
      "Val Class benign Acc: 0.8131 Precision: 0.6995 Recall: 0.6531 F1: 0.6755 AUC: 0.8462\n",
      "Val Class malignant Acc: 0.9073 Precision: 0.8366 Recall: 0.8579 F1: 0.8471 AUC: 0.9663\n",
      "Val Class normal Acc: 0.8480 Precision: 0.8022 Recall: 0.8264 F1: 0.8141 AUC: 0.9154\n"
     ]
    },
    {
     "name": "stderr",
     "output_type": "stream",
     "text": [
      "100%|██████████| 35/35 [00:32<00:00,  1.08it/s]\n"
     ]
    },
    {
     "name": "stdout",
     "output_type": "stream",
     "text": [
      "Validation Set Metrics:\n",
      "Acc: 0.7098 Precision: 0.7089 Recall: 0.7098 F1: 0.7064 AUC: 0.8549\n",
      "Val Class benign Acc: 0.7405 Precision: 0.7054 Recall: 0.5945 F1: 0.6452 AUC: 0.8053\n",
      "Val Class malignant Acc: 0.9168 Precision: 0.5495 Recall: 0.5922 F1: 0.5701 AUC: 0.9057\n",
      "Val Class normal Acc: 0.7622 Precision: 0.7408 Recall: 0.8209 F1: 0.7788 AUC: 0.8454\n",
      "The best model was found in fold 3 at epoch 17\n"
     ]
    }
   ],
   "source": [
    "import os\n",
    "import numpy as np\n",
    "import pandas as pd\n",
    "import matplotlib.pyplot as plt\n",
    "import seaborn as sns\n",
    "from sklearn.model_selection import KFold\n",
    "from sklearn.metrics import accuracy_score, precision_score, recall_score, f1_score, roc_auc_score, roc_curve, confusion_matrix\n",
    "import torch\n",
    "import torch.nn as nn\n",
    "import torch.optim as optim\n",
    "from torchvision import datasets, transforms, models\n",
    "from torch.utils.data import DataLoader, Subset\n",
    "from tqdm import tqdm\n",
    "\n",
    "# 设置设备\n",
    "device = torch.device(\"cuda\" if torch.cuda.is_available() else \"cpu\")\n",
    "\n",
    "# 数据路径\n",
    "train_dir = '/root/datasets/BTXRD3/train'\n",
    "val_dir = '/root/datasets/BTXRD3/val'\n",
    "output_dir = '/root/datasets/ResNet基础模型骨3分类/'\n",
    "\n",
    "# 创建输出目录\n",
    "os.makedirs(output_dir, exist_ok=True)\n",
    "\n",
    "# 数据预处理和加载\n",
    "transform = transforms.Compose([\n",
    "    transforms.Resize((224, 224)),\n",
    "    transforms.ToTensor(),\n",
    "    transforms.Normalize(mean=[0.485, 0.456, 0.406], std=[0.229, 0.224, 0.225])\n",
    "])\n",
    "\n",
    "full_dataset = datasets.ImageFolder(train_dir, transform=transform)\n",
    "val_dataset = datasets.ImageFolder(val_dir, transform=transform)\n",
    "class_names = full_dataset.classes\n",
    "\n",
    "# 构建ResNet50模型并加载2分类任务最佳模型权重\n",
    "def build_model(num_classes=3):\n",
    "    model = models.resnet50(weights=models.ResNet50_Weights.IMAGENET1K_V1)\n",
    "    model.fc = nn.Linear(model.fc.in_features, num_classes)\n",
    "    return model\n",
    "\n",
    "# 加载2分类任务最佳模型权重\n",
    "best_model_path = 'ResNet_best.pth'\n",
    "model = models.resnet50(weights=models.ResNet50_Weights.IMAGENET1K_V1)\n",
    "model.fc = nn.Linear(model.fc.in_features, 2)\n",
    "model.load_state_dict(torch.load(best_model_path, map_location=device))\n",
    "\n",
    "# 修改模型最后一层以适应3分类任务\n",
    "model.fc = nn.Linear(model.fc.in_features, 3)\n",
    "model = model.to(device)\n",
    "\n",
    "# 交叉验证和模型训练\n",
    "kf = KFold(n_splits=5, shuffle=True, random_state=42)\n",
    "metrics = []\n",
    "\n",
    "best_val_loss = float('inf')\n",
    "best_epoch = -1\n",
    "best_fold = -1\n",
    "\n",
    "fold_val_true = []\n",
    "fold_val_pred = []\n",
    "fold_val_scores = []\n",
    "\n",
    "for fold, (train_idx, val_idx) in enumerate(kf.split(full_dataset)):\n",
    "    print(f'Fold {fold + 1}')\n",
    "    train_subset = Subset(full_dataset, train_idx)\n",
    "    val_subset = Subset(full_dataset, val_idx)\n",
    "    train_loader = DataLoader(train_subset, batch_size=32, shuffle=True)\n",
    "    val_loader = DataLoader(val_subset, batch_size=32, shuffle=False)\n",
    "    \n",
    "    # 构建ResNet50模型并加载2分类任务最佳模型权重\n",
    "    model = models.resnet50(weights=models.ResNet50_Weights.IMAGENET1K_V1)\n",
    "    model.fc = nn.Linear(model.fc.in_features, 2)\n",
    "    model.load_state_dict(torch.load(best_model_path, map_location=device))\n",
    "    \n",
    "    # 修改模型最后一层以适应3分类任务\n",
    "    model.fc = nn.Linear(model.fc.in_features, 3)\n",
    "    model = model.to(device)\n",
    "\n",
    "    # 冻结除最后一层之外的所有层\n",
    "    for name, param in model.named_parameters():\n",
    "        if 'fc' not in name:\n",
    "            param.requires_grad = False\n",
    "\n",
    "    # 重新编译模型\n",
    "    criterion = nn.CrossEntropyLoss()\n",
    "    optimizer = optim.Adam(filter(lambda p: p.requires_grad, model.parameters()), lr=0.001)\n",
    "    \n",
    "    fold_best_val_loss = float('inf')\n",
    "    fold_best_epoch = -1\n",
    "    fold_best_model_path = os.path.join(output_dir, f'best_model_fold_{fold + 1}.pth')\n",
    "\n",
    "    for epoch in range(20):\n",
    "        model.train()\n",
    "        train_loss = 0.0\n",
    "        for images, labels in tqdm(train_loader):\n",
    "            images, labels = images.to(device), labels.to(device)\n",
    "            optimizer.zero_grad()\n",
    "            outputs = model(images)\n",
    "            loss = criterion(outputs, labels)\n",
    "            loss.backward()\n",
    "            optimizer.step()\n",
    "            train_loss += loss.item() * images.size(0)\n",
    "        \n",
    "        train_loss /= len(train_loader.dataset)\n",
    "        \n",
    "        model.eval()\n",
    "        val_loss = 0.0\n",
    "        val_true = []\n",
    "        val_pred = []\n",
    "        val_scores = []\n",
    "        with torch.no_grad():\n",
    "            for images, labels in tqdm(val_loader):\n",
    "                images, labels = images.to(device), labels.to(device)\n",
    "                outputs = model(images)\n",
    "                loss = criterion(outputs, labels)\n",
    "                val_loss += loss.item() * images.size(0)\n",
    "                val_true.extend(labels.cpu().numpy())\n",
    "                val_pred.extend(outputs.argmax(dim=1).cpu().numpy())\n",
    "                val_scores.extend(torch.softmax(outputs, dim=1).cpu().numpy())\n",
    "        \n",
    "        val_loss /= len(val_loader.dataset)\n",
    "        \n",
    "        if val_loss < fold_best_val_loss:\n",
    "            fold_best_val_loss = val_loss\n",
    "            fold_best_epoch = epoch\n",
    "            torch.save(model.state_dict(), fold_best_model_path)\n",
    "        \n",
    "        print(f'Epoch {epoch+1}, Train Loss: {train_loss:.4f}, Val Loss: {val_loss:.4f}')\n",
    "    \n",
    "    if fold_best_val_loss < best_val_loss:\n",
    "        best_val_loss = fold_best_val_loss\n",
    "        best_epoch = fold_best_epoch\n",
    "        best_fold = fold + 1\n",
    "        torch.save(model.state_dict(), os.path.join(output_dir, 'best_downstream_model.pth'))\n",
    "    \n",
    "    model.load_state_dict(torch.load(fold_best_model_path))\n",
    "    val_true = np.array(val_true)\n",
    "    val_pred = np.array(val_pred)\n",
    "    val_scores = np.array(val_scores)\n",
    "\n",
    "    fold_val_true.extend(val_true)\n",
    "    fold_val_pred.extend(val_pred)\n",
    "    fold_val_scores.extend(val_scores)\n",
    "    \n",
    "    accuracy = accuracy_score(val_true, val_pred)\n",
    "    precision = precision_score(val_true, val_pred, average='weighted')\n",
    "    recall = recall_score(val_true, val_pred, average='weighted')\n",
    "    f1 = f1_score(val_true, val_pred, average='weighted')\n",
    "    auc = roc_auc_score(val_true, val_scores, multi_class='ovo')\n",
    "    \n",
    "    print(f'Best model found at epoch {fold_best_epoch}')\n",
    "    print(f'Val Loss: {fold_best_val_loss:.4f} Acc: {accuracy:.4f} Precision: {precision:.4f} Recall: {recall:.4f} F1: {f1:.4f} AUC: {auc:.4f}')\n",
    "    \n",
    "    class_metrics = {}\n",
    "    for class_idx, class_name in enumerate(full_dataset.classes):\n",
    "        class_true = (val_true == class_idx).astype(int)\n",
    "        class_pred = (val_pred == class_idx).astype(int)\n",
    "        class_score = val_scores[:, class_idx]\n",
    "        \n",
    "        class_accuracy = accuracy_score(class_true, class_pred)\n",
    "        class_precision = precision_score(class_true, class_pred)\n",
    "        class_recall = recall_score(class_true, class_pred)\n",
    "        class_f1 = f1_score(class_true, class_pred)\n",
    "        class_auc = roc_auc_score(class_true, class_score)\n",
    "        \n",
    "        class_metrics[class_name] = {\n",
    "            'accuracy': class_accuracy,\n",
    "            'precision': class_precision,\n",
    "            'recall': class_recall,\n",
    "            'f1': class_f1,\n",
    "            'auc': class_auc\n",
    "        }\n",
    "        \n",
    "        print(f'Val Class {class_name} Acc: {class_accuracy:.4f} Precision: {class_precision:.4f} Recall: {class_recall:.4f} F1: {class_f1:.4f} AUC: {class_auc:.4f}')\n",
    "    \n",
    "    metrics.append({'fold': fold + 1, 'accuracy': accuracy, 'precision': precision, 'recall': recall, 'f1': f1, 'auc': auc, 'class_metrics': class_metrics, 'best_epoch': fold_best_epoch})\n",
    "\n",
    "# 保存五折交叉验证的指标\n",
    "metrics_df = pd.DataFrame(metrics)\n",
    "metrics_df.to_csv(os.path.join(output_dir, 'cross_validation_metrics_downstream.csv'), index=False)\n",
    "\n",
    "# 绘制五折交叉验证的ROC曲线\n",
    "plt.figure()\n",
    "for class_idx, class_name in enumerate(full_dataset.classes):\n",
    "    class_true = (np.array(fold_val_true) == class_idx).astype(int)\n",
    "    class_score = np.array(fold_val_scores)[:, class_idx]\n",
    "    \n",
    "    fpr, tpr, _ = roc_curve(class_true, class_score)\n",
    "    auc = roc_auc_score(class_true, class_score)\n",
    "    \n",
    "    plt.plot(fpr, tpr, label=f'{class_name} (area = {auc:.2f})')\n",
    "\n",
    "plt.plot([0, 1], [0, 1], 'k--')\n",
    "plt.xlim([0.0, 1.0])\n",
    "plt.ylim([0.0, 1.05])\n",
    "plt.xlabel('False Positive Rate')\n",
    "plt.ylabel('True Positive Rate')\n",
    "plt.title('Cross-Validation ROC Curve')\n",
    "plt.legend(loc=\"lower right\")\n",
    "plt.savefig(os.path.join(output_dir, 'cross_validation_roc_curve_downstream.pdf'))\n",
    "plt.close()\n",
    "\n",
    "# 绘制五折交叉验证的混淆矩阵\n",
    "cm = confusion_matrix(fold_val_true, fold_val_pred)\n",
    "plt.figure()\n",
    "sns.heatmap(cm, annot=True, fmt='d', cmap='Blues', xticklabels=class_names, yticklabels=class_names)\n",
    "plt.xlabel('Predicted')\n",
    "plt.ylabel('True')\n",
    "plt.title('Cross-Validation Confusion Matrix')\n",
    "plt.savefig(os.path.join(output_dir, 'cross_validation_confusion_matrix_downstream.pdf'))\n",
    "plt.close()\n",
    "\n",
    "# 加载最终最优模型并评估独立验证集\n",
    "model.load_state_dict(torch.load(os.path.join(output_dir, 'best_downstream_model.pth')))\n",
    "model.eval()\n",
    "\n",
    "val_loader = DataLoader(val_dataset, batch_size=32, shuffle=False)\n",
    "val_true = []\n",
    "val_pred = []\n",
    "val_scores = []\n",
    "with torch.no_grad():\n",
    "    for images, labels in tqdm(val_loader):\n",
    "        images, labels = images.to(device), labels.to(device)\n",
    "        outputs = model(images)\n",
    "        val_true.extend(labels.cpu().numpy())\n",
    "        val_pred.extend(outputs.argmax(dim=1).cpu().numpy())\n",
    "        val_scores.extend(torch.softmax(outputs, dim=1).cpu().numpy())\n",
    "\n",
    "val_true = np.array(val_true)\n",
    "val_pred = np.array(val_pred)\n",
    "val_scores = np.array(val_scores)\n",
    "\n",
    "# 计算验证集的指标\n",
    "accuracy = accuracy_score(val_true, val_pred)\n",
    "precision = precision_score(val_true, val_pred, average='weighted')\n",
    "recall = recall_score(val_true, val_pred, average='weighted')\n",
    "f1 = f1_score(val_true, val_pred, average='weighted')\n",
    "auc = roc_auc_score(val_true, val_scores, multi_class='ovo')\n",
    "\n",
    "print(f'Validation Set Metrics:')\n",
    "print(f'Acc: {accuracy:.4f} Precision: {precision:.4f} Recall: {recall:.4f} F1: {f1:.4f} AUC: {auc:.4f}')\n",
    "\n",
    "# 保存独立验证集的指标\n",
    "val_metrics = {\n",
    "    'accuracy': accuracy,\n",
    "    'precision': precision,\n",
    "    'recall': recall,\n",
    "    'f1': f1,\n",
    "    'auc': auc,\n",
    "    'class_metrics': {}\n",
    "}\n",
    "\n",
    "for class_idx, class_name in enumerate(val_dataset.classes):\n",
    "    class_true = (val_true == class_idx).astype(int)\n",
    "    class_pred = (val_pred == class_idx).astype(int)\n",
    "    class_score = val_scores[:, class_idx]\n",
    "    \n",
    "    class_accuracy = accuracy_score(class_true, class_pred)\n",
    "    class_precision = precision_score(class_true, class_pred)\n",
    "    class_recall = recall_score(class_true, class_pred)\n",
    "    class_f1 = f1_score(class_true, class_pred)\n",
    "    class_auc = roc_auc_score(class_true, class_score)\n",
    "    \n",
    "    val_metrics['class_metrics'][class_name] = {\n",
    "        'accuracy': class_accuracy,\n",
    "        'precision': class_precision,\n",
    "        'recall': class_recall,\n",
    "        'f1': class_f1,\n",
    "        'auc': class_auc\n",
    "    }\n",
    "    \n",
    "    print(f'Val Class {class_name} Acc: {class_accuracy:.4f} Precision: {class_precision:.4f} Recall: {class_recall:.4f} F1: {class_f1:.4f} AUC: {class_auc:.4f}')\n",
    "\n",
    "# 保存独立验证集的指标\n",
    "with open(os.path.join(output_dir, 'validation_metrics_downstream.csv'), 'w') as f:\n",
    "    for key in val_metrics.keys():\n",
    "        f.write(f\"{key},{val_metrics[key]}\\n\")\n",
    "\n",
    "# 绘制独立验证集的ROC曲线\n",
    "plt.figure()\n",
    "for class_idx, class_name in enumerate(val_dataset.classes):\n",
    "    class_true = (val_true == class_idx).astype(int)\n",
    "    class_score = val_scores[:, class_idx]\n",
    "    \n",
    "    fpr, tpr, _ = roc_curve(class_true, class_score)\n",
    "    auc = roc_auc_score(class_true, class_score)\n",
    "    \n",
    "    plt.plot(fpr, tpr, label=f'{class_name} (area = {auc:.2f})')\n",
    "\n",
    "plt.plot([0, 1], [0, 1], 'k--')\n",
    "plt.xlim([0.0, 1.0])\n",
    "plt.ylim([0.0, 1.05])\n",
    "plt.xlabel('False Positive Rate')\n",
    "plt.ylabel('True Positive Rate')\n",
    "plt.title('Validation ROC Curve')\n",
    "plt.legend(loc=\"lower right\")\n",
    "plt.savefig(os.path.join(output_dir, 'validation_roc_curve_downstream.pdf'))\n",
    "plt.close()\n",
    "\n",
    "# 绘制独立验证集的混淆矩阵\n",
    "cm = confusion_matrix(val_true, val_pred)\n",
    "plt.figure()\n",
    "sns.heatmap(cm, annot=True, fmt='d', cmap='Blues', xticklabels=class_names, yticklabels=class_names)\n",
    "plt.xlabel('Predicted')\n",
    "plt.ylabel('True')\n",
    "plt.title('Validation Confusion Matrix')\n",
    "plt.savefig(os.path.join(output_dir, 'validation_confusion_matrix_downstream.pdf'))\n",
    "plt.close()\n",
    "\n",
    "# 输出最终最优模型的折数和最佳轮次\n",
    "print(f'The best model was found in fold {best_fold} at epoch {best_epoch}')\n"
   ]
  },
  {
   "cell_type": "code",
   "execution_count": null,
   "id": "dffb6a06-478d-4e84-bc11-87a09c0ec8a7",
   "metadata": {},
   "outputs": [],
   "source": []
  }
 ],
 "metadata": {
  "kernelspec": {
   "display_name": "Python 3 (ipykernel)",
   "language": "python",
   "name": "python3"
  },
  "language_info": {
   "codemirror_mode": {
    "name": "ipython",
    "version": 3
   },
   "file_extension": ".py",
   "mimetype": "text/x-python",
   "name": "python",
   "nbconvert_exporter": "python",
   "pygments_lexer": "ipython3",
   "version": "3.8.10"
  }
 },
 "nbformat": 4,
 "nbformat_minor": 5
}
