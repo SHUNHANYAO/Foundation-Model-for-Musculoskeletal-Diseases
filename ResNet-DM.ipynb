{
 "cells": [
  {
   "cell_type": "code",
   "execution_count": 2,
   "id": "e3e19fda-2cad-4f80-b4be-2958dec59a05",
   "metadata": {
    "tags": []
   },
   "outputs": [
    {
     "name": "stdout",
     "output_type": "stream",
     "text": [
      "Fold 1\n"
     ]
    },
    {
     "name": "stderr",
     "output_type": "stream",
     "text": [
      "100%|██████████| 83/83 [01:48<00:00,  1.31s/it]\n",
      "100%|██████████| 21/21 [00:26<00:00,  1.28s/it]\n"
     ]
    },
    {
     "name": "stdout",
     "output_type": "stream",
     "text": [
      "Epoch 1, Train Loss: 0.8946, Val Loss: 0.9740\n"
     ]
    },
    {
     "name": "stderr",
     "output_type": "stream",
     "text": [
      "100%|██████████| 83/83 [01:46<00:00,  1.28s/it]\n",
      "100%|██████████| 21/21 [00:24<00:00,  1.18s/it]\n"
     ]
    },
    {
     "name": "stdout",
     "output_type": "stream",
     "text": [
      "Epoch 2, Train Loss: 0.8101, Val Loss: 1.4979\n"
     ]
    },
    {
     "name": "stderr",
     "output_type": "stream",
     "text": [
      "100%|██████████| 83/83 [01:38<00:00,  1.19s/it]\n",
      "100%|██████████| 21/21 [00:22<00:00,  1.09s/it]\n"
     ]
    },
    {
     "name": "stdout",
     "output_type": "stream",
     "text": [
      "Epoch 3, Train Loss: 0.7791, Val Loss: 1.2605\n"
     ]
    },
    {
     "name": "stderr",
     "output_type": "stream",
     "text": [
      "100%|██████████| 83/83 [01:41<00:00,  1.22s/it]\n",
      "100%|██████████| 21/21 [00:27<00:00,  1.32s/it]\n"
     ]
    },
    {
     "name": "stdout",
     "output_type": "stream",
     "text": [
      "Epoch 4, Train Loss: 0.7294, Val Loss: 0.8004\n"
     ]
    },
    {
     "name": "stderr",
     "output_type": "stream",
     "text": [
      "100%|██████████| 83/83 [01:37<00:00,  1.17s/it]\n",
      "100%|██████████| 21/21 [00:28<00:00,  1.35s/it]\n"
     ]
    },
    {
     "name": "stdout",
     "output_type": "stream",
     "text": [
      "Epoch 5, Train Loss: 0.6877, Val Loss: 1.1810\n"
     ]
    },
    {
     "name": "stderr",
     "output_type": "stream",
     "text": [
      "100%|██████████| 83/83 [01:42<00:00,  1.24s/it]\n",
      "100%|██████████| 21/21 [00:26<00:00,  1.26s/it]\n"
     ]
    },
    {
     "name": "stdout",
     "output_type": "stream",
     "text": [
      "Epoch 6, Train Loss: 0.6728, Val Loss: 1.0363\n"
     ]
    },
    {
     "name": "stderr",
     "output_type": "stream",
     "text": [
      "100%|██████████| 83/83 [01:45<00:00,  1.27s/it]\n",
      "100%|██████████| 21/21 [00:26<00:00,  1.27s/it]\n"
     ]
    },
    {
     "name": "stdout",
     "output_type": "stream",
     "text": [
      "Epoch 7, Train Loss: 0.6123, Val Loss: 0.8203\n"
     ]
    },
    {
     "name": "stderr",
     "output_type": "stream",
     "text": [
      "100%|██████████| 83/83 [01:30<00:00,  1.10s/it]\n",
      "100%|██████████| 21/21 [00:22<00:00,  1.09s/it]\n"
     ]
    },
    {
     "name": "stdout",
     "output_type": "stream",
     "text": [
      "Epoch 8, Train Loss: 0.5954, Val Loss: 0.9257\n"
     ]
    },
    {
     "name": "stderr",
     "output_type": "stream",
     "text": [
      "100%|██████████| 83/83 [01:41<00:00,  1.22s/it]\n",
      "100%|██████████| 21/21 [00:22<00:00,  1.06s/it]\n"
     ]
    },
    {
     "name": "stdout",
     "output_type": "stream",
     "text": [
      "Epoch 9, Train Loss: 0.5504, Val Loss: 1.0055\n"
     ]
    },
    {
     "name": "stderr",
     "output_type": "stream",
     "text": [
      "100%|██████████| 83/83 [01:35<00:00,  1.15s/it]\n",
      "100%|██████████| 21/21 [00:22<00:00,  1.07s/it]\n"
     ]
    },
    {
     "name": "stdout",
     "output_type": "stream",
     "text": [
      "Epoch 10, Train Loss: 0.5488, Val Loss: 1.7134\n"
     ]
    },
    {
     "name": "stderr",
     "output_type": "stream",
     "text": [
      "100%|██████████| 83/83 [01:30<00:00,  1.10s/it]\n",
      "100%|██████████| 21/21 [00:22<00:00,  1.07s/it]\n"
     ]
    },
    {
     "name": "stdout",
     "output_type": "stream",
     "text": [
      "Epoch 11, Train Loss: 0.4768, Val Loss: 1.2657\n"
     ]
    },
    {
     "name": "stderr",
     "output_type": "stream",
     "text": [
      "100%|██████████| 83/83 [01:36<00:00,  1.17s/it]\n",
      "100%|██████████| 21/21 [00:26<00:00,  1.28s/it]\n"
     ]
    },
    {
     "name": "stdout",
     "output_type": "stream",
     "text": [
      "Epoch 12, Train Loss: 0.4547, Val Loss: 0.8588\n"
     ]
    },
    {
     "name": "stderr",
     "output_type": "stream",
     "text": [
      "100%|██████████| 83/83 [01:40<00:00,  1.21s/it]\n",
      "100%|██████████| 21/21 [00:26<00:00,  1.25s/it]\n"
     ]
    },
    {
     "name": "stdout",
     "output_type": "stream",
     "text": [
      "Epoch 13, Train Loss: 0.4141, Val Loss: 1.8971\n"
     ]
    },
    {
     "name": "stderr",
     "output_type": "stream",
     "text": [
      "100%|██████████| 83/83 [01:37<00:00,  1.17s/it]\n",
      "100%|██████████| 21/21 [00:27<00:00,  1.31s/it]\n"
     ]
    },
    {
     "name": "stdout",
     "output_type": "stream",
     "text": [
      "Epoch 14, Train Loss: 0.4234, Val Loss: 1.4079\n"
     ]
    },
    {
     "name": "stderr",
     "output_type": "stream",
     "text": [
      "100%|██████████| 83/83 [01:45<00:00,  1.27s/it]\n",
      "100%|██████████| 21/21 [00:21<00:00,  1.04s/it]\n"
     ]
    },
    {
     "name": "stdout",
     "output_type": "stream",
     "text": [
      "Epoch 15, Train Loss: 0.3258, Val Loss: 0.9252\n"
     ]
    },
    {
     "name": "stderr",
     "output_type": "stream",
     "text": [
      "100%|██████████| 83/83 [01:35<00:00,  1.15s/it]\n",
      "100%|██████████| 21/21 [00:25<00:00,  1.21s/it]\n"
     ]
    },
    {
     "name": "stdout",
     "output_type": "stream",
     "text": [
      "Epoch 16, Train Loss: 0.2946, Val Loss: 1.3204\n"
     ]
    },
    {
     "name": "stderr",
     "output_type": "stream",
     "text": [
      "100%|██████████| 83/83 [01:44<00:00,  1.25s/it]\n",
      "100%|██████████| 21/21 [00:22<00:00,  1.07s/it]\n"
     ]
    },
    {
     "name": "stdout",
     "output_type": "stream",
     "text": [
      "Epoch 17, Train Loss: 0.3147, Val Loss: 1.4231\n"
     ]
    },
    {
     "name": "stderr",
     "output_type": "stream",
     "text": [
      "100%|██████████| 83/83 [01:42<00:00,  1.23s/it]\n",
      "100%|██████████| 21/21 [00:27<00:00,  1.29s/it]\n"
     ]
    },
    {
     "name": "stdout",
     "output_type": "stream",
     "text": [
      "Epoch 18, Train Loss: 0.2477, Val Loss: 1.2576\n"
     ]
    },
    {
     "name": "stderr",
     "output_type": "stream",
     "text": [
      "100%|██████████| 83/83 [01:40<00:00,  1.21s/it]\n",
      "100%|██████████| 21/21 [00:22<00:00,  1.08s/it]\n"
     ]
    },
    {
     "name": "stdout",
     "output_type": "stream",
     "text": [
      "Epoch 19, Train Loss: 0.1690, Val Loss: 1.2103\n"
     ]
    },
    {
     "name": "stderr",
     "output_type": "stream",
     "text": [
      "100%|██████████| 83/83 [01:35<00:00,  1.15s/it]\n",
      "100%|██████████| 21/21 [00:22<00:00,  1.08s/it]\n"
     ]
    },
    {
     "name": "stdout",
     "output_type": "stream",
     "text": [
      "Epoch 20, Train Loss: 0.2036, Val Loss: 1.4342\n",
      "Best model found at epoch 3\n",
      "Val Loss: 0.8004 Acc: 0.6525 Precision: 0.7155 Recall: 0.6525 F1: 0.6399 AUC: 0.8280\n",
      "Val Class benign Acc: 0.7572 Precision: 0.7946 Recall: 0.3938 F1: 0.5266 AUC: 0.7422\n",
      "Val Class malignant Acc: 0.8589 Precision: 0.8369 Recall: 0.6277 F1: 0.7173 AUC: 0.9156\n",
      "Val Class normal Acc: 0.6889 Precision: 0.5493 Recall: 0.9102 F1: 0.6851 AUC: 0.8227\n",
      "Fold 2\n"
     ]
    },
    {
     "name": "stderr",
     "output_type": "stream",
     "text": [
      "100%|██████████| 83/83 [01:43<00:00,  1.25s/it]\n",
      "100%|██████████| 21/21 [00:23<00:00,  1.11s/it]\n"
     ]
    },
    {
     "name": "stdout",
     "output_type": "stream",
     "text": [
      "Epoch 1, Train Loss: 0.9611, Val Loss: 1.4722\n"
     ]
    },
    {
     "name": "stderr",
     "output_type": "stream",
     "text": [
      "100%|██████████| 83/83 [01:42<00:00,  1.24s/it]\n",
      "100%|██████████| 21/21 [00:23<00:00,  1.11s/it]\n"
     ]
    },
    {
     "name": "stdout",
     "output_type": "stream",
     "text": [
      "Epoch 2, Train Loss: 0.8300, Val Loss: 0.8920\n"
     ]
    },
    {
     "name": "stderr",
     "output_type": "stream",
     "text": [
      "100%|██████████| 83/83 [01:35<00:00,  1.15s/it]\n",
      "100%|██████████| 21/21 [00:25<00:00,  1.22s/it]\n"
     ]
    },
    {
     "name": "stdout",
     "output_type": "stream",
     "text": [
      "Epoch 3, Train Loss: 0.7457, Val Loss: 1.0064\n"
     ]
    },
    {
     "name": "stderr",
     "output_type": "stream",
     "text": [
      "100%|██████████| 83/83 [01:43<00:00,  1.25s/it]\n",
      "100%|██████████| 21/21 [00:22<00:00,  1.05s/it]\n"
     ]
    },
    {
     "name": "stdout",
     "output_type": "stream",
     "text": [
      "Epoch 4, Train Loss: 0.7174, Val Loss: 1.7518\n"
     ]
    },
    {
     "name": "stderr",
     "output_type": "stream",
     "text": [
      "100%|██████████| 83/83 [01:37<00:00,  1.17s/it]\n",
      "100%|██████████| 21/21 [00:25<00:00,  1.23s/it]\n"
     ]
    },
    {
     "name": "stdout",
     "output_type": "stream",
     "text": [
      "Epoch 5, Train Loss: 0.6875, Val Loss: 0.7494\n"
     ]
    },
    {
     "name": "stderr",
     "output_type": "stream",
     "text": [
      "100%|██████████| 83/83 [01:32<00:00,  1.11s/it]\n",
      "100%|██████████| 21/21 [00:20<00:00,  1.01it/s]\n"
     ]
    },
    {
     "name": "stdout",
     "output_type": "stream",
     "text": [
      "Epoch 6, Train Loss: 0.6610, Val Loss: 0.9817\n"
     ]
    },
    {
     "name": "stderr",
     "output_type": "stream",
     "text": [
      "100%|██████████| 83/83 [01:31<00:00,  1.11s/it]\n",
      "100%|██████████| 21/21 [00:21<00:00,  1.03s/it]\n"
     ]
    },
    {
     "name": "stdout",
     "output_type": "stream",
     "text": [
      "Epoch 7, Train Loss: 0.6147, Val Loss: 1.2299\n"
     ]
    },
    {
     "name": "stderr",
     "output_type": "stream",
     "text": [
      "100%|██████████| 83/83 [01:38<00:00,  1.19s/it]\n",
      "100%|██████████| 21/21 [00:21<00:00,  1.04s/it]\n"
     ]
    },
    {
     "name": "stdout",
     "output_type": "stream",
     "text": [
      "Epoch 8, Train Loss: 0.6132, Val Loss: 0.9308\n"
     ]
    },
    {
     "name": "stderr",
     "output_type": "stream",
     "text": [
      "100%|██████████| 83/83 [01:33<00:00,  1.13s/it]\n",
      "100%|██████████| 21/21 [00:21<00:00,  1.00s/it]\n"
     ]
    },
    {
     "name": "stdout",
     "output_type": "stream",
     "text": [
      "Epoch 9, Train Loss: 0.5805, Val Loss: 0.8510\n"
     ]
    },
    {
     "name": "stderr",
     "output_type": "stream",
     "text": [
      "100%|██████████| 83/83 [01:40<00:00,  1.21s/it]\n",
      "100%|██████████| 21/21 [00:21<00:00,  1.04s/it]\n"
     ]
    },
    {
     "name": "stdout",
     "output_type": "stream",
     "text": [
      "Epoch 10, Train Loss: 0.5575, Val Loss: 1.2176\n"
     ]
    },
    {
     "name": "stderr",
     "output_type": "stream",
     "text": [
      "100%|██████████| 83/83 [01:37<00:00,  1.18s/it]\n",
      "100%|██████████| 21/21 [00:22<00:00,  1.07s/it]\n"
     ]
    },
    {
     "name": "stdout",
     "output_type": "stream",
     "text": [
      "Epoch 11, Train Loss: 0.5028, Val Loss: 1.8573\n"
     ]
    },
    {
     "name": "stderr",
     "output_type": "stream",
     "text": [
      "100%|██████████| 83/83 [01:34<00:00,  1.14s/it]\n",
      "100%|██████████| 21/21 [00:21<00:00,  1.03s/it]\n"
     ]
    },
    {
     "name": "stdout",
     "output_type": "stream",
     "text": [
      "Epoch 12, Train Loss: 0.4724, Val Loss: 1.1048\n"
     ]
    },
    {
     "name": "stderr",
     "output_type": "stream",
     "text": [
      "100%|██████████| 83/83 [01:41<00:00,  1.22s/it]\n",
      "100%|██████████| 21/21 [00:22<00:00,  1.07s/it]\n"
     ]
    },
    {
     "name": "stdout",
     "output_type": "stream",
     "text": [
      "Epoch 13, Train Loss: 0.4170, Val Loss: 1.3833\n"
     ]
    },
    {
     "name": "stderr",
     "output_type": "stream",
     "text": [
      "100%|██████████| 83/83 [01:44<00:00,  1.26s/it]\n",
      "100%|██████████| 21/21 [00:25<00:00,  1.22s/it]\n"
     ]
    },
    {
     "name": "stdout",
     "output_type": "stream",
     "text": [
      "Epoch 14, Train Loss: 0.4066, Val Loss: 1.0407\n"
     ]
    },
    {
     "name": "stderr",
     "output_type": "stream",
     "text": [
      "100%|██████████| 83/83 [01:40<00:00,  1.21s/it]\n",
      "100%|██████████| 21/21 [00:23<00:00,  1.14s/it]\n"
     ]
    },
    {
     "name": "stdout",
     "output_type": "stream",
     "text": [
      "Epoch 15, Train Loss: 0.3786, Val Loss: 2.4418\n"
     ]
    },
    {
     "name": "stderr",
     "output_type": "stream",
     "text": [
      "100%|██████████| 83/83 [01:31<00:00,  1.10s/it]\n",
      "100%|██████████| 21/21 [00:25<00:00,  1.20s/it]\n"
     ]
    },
    {
     "name": "stdout",
     "output_type": "stream",
     "text": [
      "Epoch 16, Train Loss: 0.3100, Val Loss: 1.8968\n"
     ]
    },
    {
     "name": "stderr",
     "output_type": "stream",
     "text": [
      "100%|██████████| 83/83 [01:40<00:00,  1.21s/it]\n",
      "100%|██████████| 21/21 [00:21<00:00,  1.03s/it]\n"
     ]
    },
    {
     "name": "stdout",
     "output_type": "stream",
     "text": [
      "Epoch 17, Train Loss: 0.2630, Val Loss: 1.2342\n"
     ]
    },
    {
     "name": "stderr",
     "output_type": "stream",
     "text": [
      "100%|██████████| 83/83 [01:49<00:00,  1.32s/it]\n",
      "100%|██████████| 21/21 [00:24<00:00,  1.17s/it]\n"
     ]
    },
    {
     "name": "stdout",
     "output_type": "stream",
     "text": [
      "Epoch 18, Train Loss: 0.2350, Val Loss: 1.7143\n"
     ]
    },
    {
     "name": "stderr",
     "output_type": "stream",
     "text": [
      "100%|██████████| 83/83 [01:39<00:00,  1.20s/it]\n",
      "100%|██████████| 21/21 [00:24<00:00,  1.18s/it]\n"
     ]
    },
    {
     "name": "stdout",
     "output_type": "stream",
     "text": [
      "Epoch 19, Train Loss: 0.2072, Val Loss: 1.5106\n"
     ]
    },
    {
     "name": "stderr",
     "output_type": "stream",
     "text": [
      "100%|██████████| 83/83 [01:39<00:00,  1.20s/it]\n",
      "100%|██████████| 21/21 [00:20<00:00,  1.01it/s]\n"
     ]
    },
    {
     "name": "stdout",
     "output_type": "stream",
     "text": [
      "Epoch 20, Train Loss: 0.1761, Val Loss: 1.3460\n",
      "Best model found at epoch 4\n",
      "Val Loss: 0.7494 Acc: 0.6434 Precision: 0.6554 Recall: 0.6434 F1: 0.6361 AUC: 0.8309\n",
      "Val Class benign Acc: 0.7329 Precision: 0.5556 Recall: 0.4404 F1: 0.4913 AUC: 0.7515\n",
      "Val Class malignant Acc: 0.7769 Precision: 0.5960 Recall: 0.8676 F1: 0.7066 AUC: 0.8909\n",
      "Val Class normal Acc: 0.7769 Precision: 0.7751 Recall: 0.6183 F1: 0.6879 AUC: 0.8479\n",
      "Fold 3\n"
     ]
    },
    {
     "name": "stderr",
     "output_type": "stream",
     "text": [
      "100%|██████████| 83/83 [01:41<00:00,  1.22s/it]\n",
      "100%|██████████| 21/21 [00:21<00:00,  1.05s/it]\n"
     ]
    },
    {
     "name": "stdout",
     "output_type": "stream",
     "text": [
      "Epoch 1, Train Loss: 0.9219, Val Loss: 0.9429\n"
     ]
    },
    {
     "name": "stderr",
     "output_type": "stream",
     "text": [
      "100%|██████████| 83/83 [01:44<00:00,  1.26s/it]\n",
      "100%|██████████| 21/21 [00:25<00:00,  1.22s/it]\n"
     ]
    },
    {
     "name": "stdout",
     "output_type": "stream",
     "text": [
      "Epoch 2, Train Loss: 0.7946, Val Loss: 1.2332\n"
     ]
    },
    {
     "name": "stderr",
     "output_type": "stream",
     "text": [
      "100%|██████████| 83/83 [01:38<00:00,  1.19s/it]\n",
      "100%|██████████| 21/21 [00:22<00:00,  1.07s/it]\n"
     ]
    },
    {
     "name": "stdout",
     "output_type": "stream",
     "text": [
      "Epoch 3, Train Loss: 0.8029, Val Loss: 1.3915\n"
     ]
    },
    {
     "name": "stderr",
     "output_type": "stream",
     "text": [
      "100%|██████████| 83/83 [01:31<00:00,  1.10s/it]\n",
      "100%|██████████| 21/21 [00:27<00:00,  1.30s/it]\n"
     ]
    },
    {
     "name": "stdout",
     "output_type": "stream",
     "text": [
      "Epoch 4, Train Loss: 0.7522, Val Loss: 1.0431\n"
     ]
    },
    {
     "name": "stderr",
     "output_type": "stream",
     "text": [
      "100%|██████████| 83/83 [01:48<00:00,  1.31s/it]\n",
      "100%|██████████| 21/21 [00:24<00:00,  1.18s/it]\n"
     ]
    },
    {
     "name": "stdout",
     "output_type": "stream",
     "text": [
      "Epoch 5, Train Loss: 0.6948, Val Loss: 0.7746\n"
     ]
    },
    {
     "name": "stderr",
     "output_type": "stream",
     "text": [
      "100%|██████████| 83/83 [01:42<00:00,  1.23s/it]\n",
      "100%|██████████| 21/21 [00:24<00:00,  1.18s/it]\n"
     ]
    },
    {
     "name": "stdout",
     "output_type": "stream",
     "text": [
      "Epoch 6, Train Loss: 0.6677, Val Loss: 0.7385\n"
     ]
    },
    {
     "name": "stderr",
     "output_type": "stream",
     "text": [
      "100%|██████████| 83/83 [01:29<00:00,  1.08s/it]\n",
      "100%|██████████| 21/21 [00:20<00:00,  1.00it/s]\n"
     ]
    },
    {
     "name": "stdout",
     "output_type": "stream",
     "text": [
      "Epoch 7, Train Loss: 0.6322, Val Loss: 0.9174\n"
     ]
    },
    {
     "name": "stderr",
     "output_type": "stream",
     "text": [
      "100%|██████████| 83/83 [01:38<00:00,  1.19s/it]\n",
      "100%|██████████| 21/21 [00:25<00:00,  1.22s/it]\n"
     ]
    },
    {
     "name": "stdout",
     "output_type": "stream",
     "text": [
      "Epoch 8, Train Loss: 0.5808, Val Loss: 0.9068\n"
     ]
    },
    {
     "name": "stderr",
     "output_type": "stream",
     "text": [
      "100%|██████████| 83/83 [01:48<00:00,  1.30s/it]\n",
      "100%|██████████| 21/21 [00:26<00:00,  1.25s/it]\n"
     ]
    },
    {
     "name": "stdout",
     "output_type": "stream",
     "text": [
      "Epoch 9, Train Loss: 0.5778, Val Loss: 0.9147\n"
     ]
    },
    {
     "name": "stderr",
     "output_type": "stream",
     "text": [
      "100%|██████████| 83/83 [01:39<00:00,  1.20s/it]\n",
      "100%|██████████| 21/21 [00:21<00:00,  1.03s/it]\n"
     ]
    },
    {
     "name": "stdout",
     "output_type": "stream",
     "text": [
      "Epoch 10, Train Loss: 0.5184, Val Loss: 0.7959\n"
     ]
    },
    {
     "name": "stderr",
     "output_type": "stream",
     "text": [
      "100%|██████████| 83/83 [01:37<00:00,  1.17s/it]\n",
      "100%|██████████| 21/21 [00:26<00:00,  1.26s/it]\n"
     ]
    },
    {
     "name": "stdout",
     "output_type": "stream",
     "text": [
      "Epoch 11, Train Loss: 0.4728, Val Loss: 0.7385\n"
     ]
    },
    {
     "name": "stderr",
     "output_type": "stream",
     "text": [
      "100%|██████████| 83/83 [01:46<00:00,  1.28s/it]\n",
      "100%|██████████| 21/21 [00:23<00:00,  1.10s/it]\n"
     ]
    },
    {
     "name": "stdout",
     "output_type": "stream",
     "text": [
      "Epoch 12, Train Loss: 0.4659, Val Loss: 4.6696\n"
     ]
    },
    {
     "name": "stderr",
     "output_type": "stream",
     "text": [
      "100%|██████████| 83/83 [01:36<00:00,  1.16s/it]\n",
      "100%|██████████| 21/21 [00:23<00:00,  1.13s/it]\n"
     ]
    },
    {
     "name": "stdout",
     "output_type": "stream",
     "text": [
      "Epoch 13, Train Loss: 0.4295, Val Loss: 0.9295\n"
     ]
    },
    {
     "name": "stderr",
     "output_type": "stream",
     "text": [
      "100%|██████████| 83/83 [01:47<00:00,  1.29s/it]\n",
      "100%|██████████| 21/21 [00:22<00:00,  1.09s/it]\n"
     ]
    },
    {
     "name": "stdout",
     "output_type": "stream",
     "text": [
      "Epoch 14, Train Loss: 0.3805, Val Loss: 1.3617\n"
     ]
    },
    {
     "name": "stderr",
     "output_type": "stream",
     "text": [
      "100%|██████████| 83/83 [01:41<00:00,  1.22s/it]\n",
      "100%|██████████| 21/21 [00:21<00:00,  1.05s/it]\n"
     ]
    },
    {
     "name": "stdout",
     "output_type": "stream",
     "text": [
      "Epoch 15, Train Loss: 0.3842, Val Loss: 0.9023\n"
     ]
    },
    {
     "name": "stderr",
     "output_type": "stream",
     "text": [
      "100%|██████████| 83/83 [01:28<00:00,  1.07s/it]\n",
      "100%|██████████| 21/21 [00:26<00:00,  1.29s/it]\n"
     ]
    },
    {
     "name": "stdout",
     "output_type": "stream",
     "text": [
      "Epoch 16, Train Loss: 0.3097, Val Loss: 1.1979\n"
     ]
    },
    {
     "name": "stderr",
     "output_type": "stream",
     "text": [
      "100%|██████████| 83/83 [01:47<00:00,  1.29s/it]\n",
      "100%|██████████| 21/21 [00:27<00:00,  1.30s/it]\n"
     ]
    },
    {
     "name": "stdout",
     "output_type": "stream",
     "text": [
      "Epoch 17, Train Loss: 0.2242, Val Loss: 1.4456\n"
     ]
    },
    {
     "name": "stderr",
     "output_type": "stream",
     "text": [
      "100%|██████████| 83/83 [01:26<00:00,  1.04s/it]\n",
      "100%|██████████| 21/21 [00:18<00:00,  1.15it/s]\n"
     ]
    },
    {
     "name": "stdout",
     "output_type": "stream",
     "text": [
      "Epoch 18, Train Loss: 0.2393, Val Loss: 1.0099\n"
     ]
    },
    {
     "name": "stderr",
     "output_type": "stream",
     "text": [
      "100%|██████████| 83/83 [01:16<00:00,  1.08it/s]\n",
      "100%|██████████| 21/21 [00:18<00:00,  1.12it/s]\n"
     ]
    },
    {
     "name": "stdout",
     "output_type": "stream",
     "text": [
      "Epoch 19, Train Loss: 0.1857, Val Loss: 1.9793\n"
     ]
    },
    {
     "name": "stderr",
     "output_type": "stream",
     "text": [
      "100%|██████████| 83/83 [01:17<00:00,  1.07it/s]\n",
      "100%|██████████| 21/21 [00:18<00:00,  1.14it/s]\n"
     ]
    },
    {
     "name": "stdout",
     "output_type": "stream",
     "text": [
      "Epoch 20, Train Loss: 0.2236, Val Loss: 3.4047\n",
      "Best model found at epoch 5\n",
      "Val Loss: 0.7385 Acc: 0.5441 Precision: 0.5992 Recall: 0.5441 F1: 0.5293 AUC: 0.7639\n",
      "Val Class benign Acc: 0.7219 Precision: 0.5738 Recall: 0.3483 F1: 0.4334 AUC: 0.6605\n",
      "Val Class malignant Acc: 0.6626 Precision: 0.4570 Recall: 0.8947 F1: 0.6050 AUC: 0.8459\n",
      "Val Class normal Acc: 0.7036 Precision: 0.7195 Recall: 0.4419 F1: 0.5476 AUC: 0.7654\n",
      "Fold 4\n"
     ]
    },
    {
     "name": "stderr",
     "output_type": "stream",
     "text": [
      "100%|██████████| 83/83 [01:17<00:00,  1.07it/s]\n",
      "100%|██████████| 21/21 [00:20<00:00,  1.03it/s]\n"
     ]
    },
    {
     "name": "stdout",
     "output_type": "stream",
     "text": [
      "Epoch 1, Train Loss: 0.9659, Val Loss: 0.9553\n"
     ]
    },
    {
     "name": "stderr",
     "output_type": "stream",
     "text": [
      "100%|██████████| 83/83 [01:18<00:00,  1.06it/s]\n",
      "100%|██████████| 21/21 [00:19<00:00,  1.10it/s]\n"
     ]
    },
    {
     "name": "stdout",
     "output_type": "stream",
     "text": [
      "Epoch 2, Train Loss: 0.8662, Val Loss: 2.4696\n"
     ]
    },
    {
     "name": "stderr",
     "output_type": "stream",
     "text": [
      "100%|██████████| 83/83 [01:18<00:00,  1.06it/s]\n",
      "100%|██████████| 21/21 [00:19<00:00,  1.08it/s]\n"
     ]
    },
    {
     "name": "stdout",
     "output_type": "stream",
     "text": [
      "Epoch 3, Train Loss: 0.7664, Val Loss: 0.8580\n"
     ]
    },
    {
     "name": "stderr",
     "output_type": "stream",
     "text": [
      "100%|██████████| 83/83 [01:15<00:00,  1.10it/s]\n",
      "100%|██████████| 21/21 [00:19<00:00,  1.07it/s]\n"
     ]
    },
    {
     "name": "stdout",
     "output_type": "stream",
     "text": [
      "Epoch 4, Train Loss: 0.7434, Val Loss: 0.8194\n"
     ]
    },
    {
     "name": "stderr",
     "output_type": "stream",
     "text": [
      "100%|██████████| 83/83 [01:14<00:00,  1.11it/s]\n",
      "100%|██████████| 21/21 [00:20<00:00,  1.03it/s]\n"
     ]
    },
    {
     "name": "stdout",
     "output_type": "stream",
     "text": [
      "Epoch 5, Train Loss: 0.7019, Val Loss: 0.8455\n"
     ]
    },
    {
     "name": "stderr",
     "output_type": "stream",
     "text": [
      "100%|██████████| 83/83 [01:16<00:00,  1.09it/s]\n",
      "100%|██████████| 21/21 [00:19<00:00,  1.07it/s]\n"
     ]
    },
    {
     "name": "stdout",
     "output_type": "stream",
     "text": [
      "Epoch 6, Train Loss: 0.6708, Val Loss: 1.1399\n"
     ]
    },
    {
     "name": "stderr",
     "output_type": "stream",
     "text": [
      "100%|██████████| 83/83 [01:16<00:00,  1.09it/s]\n",
      "100%|██████████| 21/21 [00:21<00:00,  1.03s/it]\n"
     ]
    },
    {
     "name": "stdout",
     "output_type": "stream",
     "text": [
      "Epoch 7, Train Loss: 0.6554, Val Loss: 0.8820\n"
     ]
    },
    {
     "name": "stderr",
     "output_type": "stream",
     "text": [
      "100%|██████████| 83/83 [01:16<00:00,  1.08it/s]\n",
      "100%|██████████| 21/21 [00:19<00:00,  1.07it/s]\n"
     ]
    },
    {
     "name": "stdout",
     "output_type": "stream",
     "text": [
      "Epoch 8, Train Loss: 0.6097, Val Loss: 0.9578\n"
     ]
    },
    {
     "name": "stderr",
     "output_type": "stream",
     "text": [
      "100%|██████████| 83/83 [01:16<00:00,  1.08it/s]\n",
      "100%|██████████| 21/21 [00:20<00:00,  1.02it/s]\n"
     ]
    },
    {
     "name": "stdout",
     "output_type": "stream",
     "text": [
      "Epoch 9, Train Loss: 0.5755, Val Loss: 2.2802\n"
     ]
    },
    {
     "name": "stderr",
     "output_type": "stream",
     "text": [
      "100%|██████████| 83/83 [01:17<00:00,  1.07it/s]\n",
      "100%|██████████| 21/21 [00:20<00:00,  1.01it/s]\n"
     ]
    },
    {
     "name": "stdout",
     "output_type": "stream",
     "text": [
      "Epoch 10, Train Loss: 0.5101, Val Loss: 0.8884\n"
     ]
    },
    {
     "name": "stderr",
     "output_type": "stream",
     "text": [
      "100%|██████████| 83/83 [01:15<00:00,  1.09it/s]\n",
      "100%|██████████| 21/21 [00:19<00:00,  1.09it/s]\n"
     ]
    },
    {
     "name": "stdout",
     "output_type": "stream",
     "text": [
      "Epoch 11, Train Loss: 0.5117, Val Loss: 0.7259\n"
     ]
    },
    {
     "name": "stderr",
     "output_type": "stream",
     "text": [
      "100%|██████████| 83/83 [01:16<00:00,  1.09it/s]\n",
      "100%|██████████| 21/21 [00:19<00:00,  1.10it/s]\n"
     ]
    },
    {
     "name": "stdout",
     "output_type": "stream",
     "text": [
      "Epoch 12, Train Loss: 0.4769, Val Loss: 0.8581\n"
     ]
    },
    {
     "name": "stderr",
     "output_type": "stream",
     "text": [
      "100%|██████████| 83/83 [01:16<00:00,  1.08it/s]\n",
      "100%|██████████| 21/21 [00:19<00:00,  1.11it/s]\n"
     ]
    },
    {
     "name": "stdout",
     "output_type": "stream",
     "text": [
      "Epoch 13, Train Loss: 0.4184, Val Loss: 1.8669\n"
     ]
    },
    {
     "name": "stderr",
     "output_type": "stream",
     "text": [
      "100%|██████████| 83/83 [01:13<00:00,  1.13it/s]\n",
      "100%|██████████| 21/21 [00:18<00:00,  1.14it/s]\n"
     ]
    },
    {
     "name": "stdout",
     "output_type": "stream",
     "text": [
      "Epoch 14, Train Loss: 0.3699, Val Loss: 1.4545\n"
     ]
    },
    {
     "name": "stderr",
     "output_type": "stream",
     "text": [
      "100%|██████████| 83/83 [01:12<00:00,  1.14it/s]\n",
      "100%|██████████| 21/21 [00:18<00:00,  1.14it/s]\n"
     ]
    },
    {
     "name": "stdout",
     "output_type": "stream",
     "text": [
      "Epoch 15, Train Loss: 0.3118, Val Loss: 2.2689\n"
     ]
    },
    {
     "name": "stderr",
     "output_type": "stream",
     "text": [
      "100%|██████████| 83/83 [01:13<00:00,  1.13it/s]\n",
      "100%|██████████| 21/21 [00:18<00:00,  1.12it/s]\n"
     ]
    },
    {
     "name": "stdout",
     "output_type": "stream",
     "text": [
      "Epoch 16, Train Loss: 0.3286, Val Loss: 1.4755\n"
     ]
    },
    {
     "name": "stderr",
     "output_type": "stream",
     "text": [
      "100%|██████████| 83/83 [01:12<00:00,  1.15it/s]\n",
      "100%|██████████| 21/21 [00:18<00:00,  1.15it/s]\n"
     ]
    },
    {
     "name": "stdout",
     "output_type": "stream",
     "text": [
      "Epoch 17, Train Loss: 0.2109, Val Loss: 1.0756\n"
     ]
    },
    {
     "name": "stderr",
     "output_type": "stream",
     "text": [
      "100%|██████████| 83/83 [01:13<00:00,  1.14it/s]\n",
      "100%|██████████| 21/21 [00:18<00:00,  1.14it/s]\n"
     ]
    },
    {
     "name": "stdout",
     "output_type": "stream",
     "text": [
      "Epoch 18, Train Loss: 0.2055, Val Loss: 1.2183\n"
     ]
    },
    {
     "name": "stderr",
     "output_type": "stream",
     "text": [
      "100%|██████████| 83/83 [01:13<00:00,  1.14it/s]\n",
      "100%|██████████| 21/21 [00:18<00:00,  1.13it/s]\n"
     ]
    },
    {
     "name": "stdout",
     "output_type": "stream",
     "text": [
      "Epoch 19, Train Loss: 0.2255, Val Loss: 1.5739\n"
     ]
    },
    {
     "name": "stderr",
     "output_type": "stream",
     "text": [
      "100%|██████████| 83/83 [01:12<00:00,  1.14it/s]\n",
      "100%|██████████| 21/21 [00:18<00:00,  1.15it/s]\n"
     ]
    },
    {
     "name": "stdout",
     "output_type": "stream",
     "text": [
      "Epoch 20, Train Loss: 0.1590, Val Loss: 1.0545\n",
      "Best model found at epoch 10\n",
      "Val Loss: 0.7259 Acc: 0.6900 Precision: 0.6835 Recall: 0.6900 F1: 0.6846 AUC: 0.8488\n",
      "Val Class benign Acc: 0.7386 Precision: 0.5965 Recall: 0.4976 F1: 0.5426 AUC: 0.7598\n",
      "Val Class malignant Acc: 0.8602 Precision: 0.7202 Recall: 0.7853 F1: 0.7514 AUC: 0.9234\n",
      "Val Class normal Acc: 0.7812 Precision: 0.7245 Recall: 0.7717 F1: 0.7474 AUC: 0.8553\n",
      "Fold 5\n"
     ]
    },
    {
     "name": "stderr",
     "output_type": "stream",
     "text": [
      "100%|██████████| 83/83 [01:16<00:00,  1.09it/s]\n",
      "100%|██████████| 21/21 [00:17<00:00,  1.23it/s]\n"
     ]
    },
    {
     "name": "stdout",
     "output_type": "stream",
     "text": [
      "Epoch 1, Train Loss: 0.9065, Val Loss: 1.3180\n"
     ]
    },
    {
     "name": "stderr",
     "output_type": "stream",
     "text": [
      "100%|██████████| 83/83 [01:14<00:00,  1.11it/s]\n",
      "100%|██████████| 21/21 [00:17<00:00,  1.23it/s]\n"
     ]
    },
    {
     "name": "stdout",
     "output_type": "stream",
     "text": [
      "Epoch 2, Train Loss: 0.8217, Val Loss: 1.0199\n"
     ]
    },
    {
     "name": "stderr",
     "output_type": "stream",
     "text": [
      "100%|██████████| 83/83 [01:15<00:00,  1.10it/s]\n",
      "100%|██████████| 21/21 [00:16<00:00,  1.24it/s]\n"
     ]
    },
    {
     "name": "stdout",
     "output_type": "stream",
     "text": [
      "Epoch 3, Train Loss: 0.7294, Val Loss: 0.8805\n"
     ]
    },
    {
     "name": "stderr",
     "output_type": "stream",
     "text": [
      "100%|██████████| 83/83 [01:15<00:00,  1.10it/s]\n",
      "100%|██████████| 21/21 [00:17<00:00,  1.22it/s]\n"
     ]
    },
    {
     "name": "stdout",
     "output_type": "stream",
     "text": [
      "Epoch 4, Train Loss: 0.7094, Val Loss: 0.9289\n"
     ]
    },
    {
     "name": "stderr",
     "output_type": "stream",
     "text": [
      "100%|██████████| 83/83 [01:15<00:00,  1.10it/s]\n",
      "100%|██████████| 21/21 [00:17<00:00,  1.22it/s]\n"
     ]
    },
    {
     "name": "stdout",
     "output_type": "stream",
     "text": [
      "Epoch 5, Train Loss: 0.6641, Val Loss: 2.8504\n"
     ]
    },
    {
     "name": "stderr",
     "output_type": "stream",
     "text": [
      "100%|██████████| 83/83 [01:14<00:00,  1.11it/s]\n",
      "100%|██████████| 21/21 [00:17<00:00,  1.18it/s]\n"
     ]
    },
    {
     "name": "stdout",
     "output_type": "stream",
     "text": [
      "Epoch 6, Train Loss: 0.6509, Val Loss: 0.9805\n"
     ]
    },
    {
     "name": "stderr",
     "output_type": "stream",
     "text": [
      "100%|██████████| 83/83 [01:14<00:00,  1.12it/s]\n",
      "100%|██████████| 21/21 [00:17<00:00,  1.23it/s]\n"
     ]
    },
    {
     "name": "stdout",
     "output_type": "stream",
     "text": [
      "Epoch 7, Train Loss: 0.6062, Val Loss: 0.8189\n"
     ]
    },
    {
     "name": "stderr",
     "output_type": "stream",
     "text": [
      "100%|██████████| 83/83 [01:14<00:00,  1.11it/s]\n",
      "100%|██████████| 21/21 [00:17<00:00,  1.22it/s]\n"
     ]
    },
    {
     "name": "stdout",
     "output_type": "stream",
     "text": [
      "Epoch 8, Train Loss: 0.5717, Val Loss: 0.7712\n"
     ]
    },
    {
     "name": "stderr",
     "output_type": "stream",
     "text": [
      "100%|██████████| 83/83 [01:14<00:00,  1.12it/s]\n",
      "100%|██████████| 21/21 [00:17<00:00,  1.22it/s]\n"
     ]
    },
    {
     "name": "stdout",
     "output_type": "stream",
     "text": [
      "Epoch 9, Train Loss: 0.5212, Val Loss: 0.7937\n"
     ]
    },
    {
     "name": "stderr",
     "output_type": "stream",
     "text": [
      "100%|██████████| 83/83 [01:13<00:00,  1.13it/s]\n",
      "100%|██████████| 21/21 [00:17<00:00,  1.20it/s]\n"
     ]
    },
    {
     "name": "stdout",
     "output_type": "stream",
     "text": [
      "Epoch 10, Train Loss: 0.4891, Val Loss: 1.0565\n"
     ]
    },
    {
     "name": "stderr",
     "output_type": "stream",
     "text": [
      "100%|██████████| 83/83 [01:14<00:00,  1.11it/s]\n",
      "100%|██████████| 21/21 [00:16<00:00,  1.25it/s]\n"
     ]
    },
    {
     "name": "stdout",
     "output_type": "stream",
     "text": [
      "Epoch 11, Train Loss: 0.4839, Val Loss: 1.0156\n"
     ]
    },
    {
     "name": "stderr",
     "output_type": "stream",
     "text": [
      "100%|██████████| 83/83 [01:13<00:00,  1.13it/s]\n",
      "100%|██████████| 21/21 [00:17<00:00,  1.21it/s]\n"
     ]
    },
    {
     "name": "stdout",
     "output_type": "stream",
     "text": [
      "Epoch 12, Train Loss: 0.4475, Val Loss: 0.9449\n"
     ]
    },
    {
     "name": "stderr",
     "output_type": "stream",
     "text": [
      "100%|██████████| 83/83 [01:15<00:00,  1.11it/s]\n",
      "100%|██████████| 21/21 [00:17<00:00,  1.21it/s]\n"
     ]
    },
    {
     "name": "stdout",
     "output_type": "stream",
     "text": [
      "Epoch 13, Train Loss: 0.4112, Val Loss: 0.9965\n"
     ]
    },
    {
     "name": "stderr",
     "output_type": "stream",
     "text": [
      "100%|██████████| 83/83 [01:14<00:00,  1.11it/s]\n",
      "100%|██████████| 21/21 [00:16<00:00,  1.24it/s]\n"
     ]
    },
    {
     "name": "stdout",
     "output_type": "stream",
     "text": [
      "Epoch 14, Train Loss: 0.3158, Val Loss: 1.3642\n"
     ]
    },
    {
     "name": "stderr",
     "output_type": "stream",
     "text": [
      "100%|██████████| 83/83 [01:13<00:00,  1.13it/s]\n",
      "100%|██████████| 21/21 [00:17<00:00,  1.23it/s]\n"
     ]
    },
    {
     "name": "stdout",
     "output_type": "stream",
     "text": [
      "Epoch 15, Train Loss: 0.2738, Val Loss: 1.1092\n"
     ]
    },
    {
     "name": "stderr",
     "output_type": "stream",
     "text": [
      "100%|██████████| 83/83 [01:13<00:00,  1.12it/s]\n",
      "100%|██████████| 21/21 [00:16<00:00,  1.25it/s]\n"
     ]
    },
    {
     "name": "stdout",
     "output_type": "stream",
     "text": [
      "Epoch 16, Train Loss: 0.2839, Val Loss: 1.7151\n"
     ]
    },
    {
     "name": "stderr",
     "output_type": "stream",
     "text": [
      "100%|██████████| 83/83 [01:14<00:00,  1.12it/s]\n",
      "100%|██████████| 21/21 [00:16<00:00,  1.25it/s]\n"
     ]
    },
    {
     "name": "stdout",
     "output_type": "stream",
     "text": [
      "Epoch 17, Train Loss: 0.2227, Val Loss: 1.3394\n"
     ]
    },
    {
     "name": "stderr",
     "output_type": "stream",
     "text": [
      "100%|██████████| 83/83 [01:13<00:00,  1.13it/s]\n",
      "100%|██████████| 21/21 [00:16<00:00,  1.24it/s]\n"
     ]
    },
    {
     "name": "stdout",
     "output_type": "stream",
     "text": [
      "Epoch 18, Train Loss: 0.2319, Val Loss: 1.1129\n"
     ]
    },
    {
     "name": "stderr",
     "output_type": "stream",
     "text": [
      "100%|██████████| 83/83 [01:14<00:00,  1.12it/s]\n",
      "100%|██████████| 21/21 [00:16<00:00,  1.25it/s]\n"
     ]
    },
    {
     "name": "stdout",
     "output_type": "stream",
     "text": [
      "Epoch 19, Train Loss: 0.2101, Val Loss: 1.1213\n"
     ]
    },
    {
     "name": "stderr",
     "output_type": "stream",
     "text": [
      "100%|██████████| 83/83 [01:13<00:00,  1.13it/s]\n",
      "100%|██████████| 21/21 [00:16<00:00,  1.25it/s]\n"
     ]
    },
    {
     "name": "stdout",
     "output_type": "stream",
     "text": [
      "Epoch 20, Train Loss: 0.1389, Val Loss: 2.7498\n",
      "Best model found at epoch 7\n",
      "Val Loss: 0.7712 Acc: 0.5745 Precision: 0.6493 Recall: 0.5745 F1: 0.5483 AUC: 0.8136\n",
      "Val Class benign Acc: 0.7340 Precision: 0.6364 Recall: 0.2500 F1: 0.3590 AUC: 0.6702\n",
      "Val Class malignant Acc: 0.6657 Precision: 0.4719 Recall: 0.9797 F1: 0.6370 AUC: 0.9094\n",
      "Val Class normal Acc: 0.7492 Precision: 0.7907 Recall: 0.5132 F1: 0.6224 AUC: 0.8452\n"
     ]
    },
    {
     "name": "stderr",
     "output_type": "stream",
     "text": [
      "100%|██████████| 35/35 [00:32<00:00,  1.09it/s]\n"
     ]
    },
    {
     "name": "stdout",
     "output_type": "stream",
     "text": [
      "Validation Set Metrics:\n",
      "Acc: 0.6347 Precision: 0.6451 Recall: 0.6347 F1: 0.6368 AUC: 0.7762\n",
      "Val Class benign Acc: 0.6863 Precision: 0.6230 Recall: 0.5308 F1: 0.5732 AUC: 0.7240\n",
      "Val Class malignant Acc: 0.8698 Precision: 0.3660 Recall: 0.5437 F1: 0.4375 AUC: 0.8212\n",
      "Val Class normal Acc: 0.7134 Precision: 0.7133 Recall: 0.7323 F1: 0.7227 AUC: 0.7762\n",
      "The best model was found in fold 4 at epoch 10\n"
     ]
    }
   ],
   "source": [
    "import os\n",
    "import numpy as np\n",
    "import pandas as pd\n",
    "import matplotlib.pyplot as plt\n",
    "import seaborn as sns\n",
    "from sklearn.model_selection import KFold\n",
    "from sklearn.metrics import accuracy_score, precision_score, recall_score, f1_score, roc_auc_score, roc_curve, confusion_matrix\n",
    "import torch\n",
    "import torch.nn as nn\n",
    "import torch.optim as optim\n",
    "from torchvision import datasets, transforms, models\n",
    "from torch.utils.data import DataLoader, Subset\n",
    "from tqdm import tqdm\n",
    "\n",
    "# 数据路径\n",
    "train_dir = '/root/datasets/BTXRD3/train'\n",
    "val_dir = '/root/datasets/BTXRD3/val'\n",
    "output_dir = '/root/datasets/ResNet直接骨3分类/'\n",
    "\n",
    "# 创建输出目录\n",
    "os.makedirs(output_dir, exist_ok=True)\n",
    "\n",
    "# 数据预处理和加载\n",
    "transform = transforms.Compose([\n",
    "    transforms.Resize((224, 224)),\n",
    "    transforms.ToTensor(),\n",
    "    transforms.Normalize(mean=[0.485, 0.456, 0.406], std=[0.229, 0.224, 0.225])\n",
    "])\n",
    "\n",
    "full_dataset = datasets.ImageFolder(train_dir, transform=transform)\n",
    "val_dataset = datasets.ImageFolder(val_dir, transform=transform)\n",
    "class_names = full_dataset.classes\n",
    "\n",
    "# 构建ResNet50模型\n",
    "def build_model():\n",
    "    model = models.resnet50(weights=models.ResNet50_Weights.IMAGENET1K_V1)\n",
    "    model.fc = nn.Linear(model.fc.in_features, 3)\n",
    "    return model\n",
    "\n",
    "# 交叉验证和模型训练\n",
    "kf = KFold(n_splits=5, shuffle=True, random_state=42)\n",
    "metrics = []\n",
    "\n",
    "device = torch.device(\"cuda\" if torch.cuda.is_available() else \"cpu\")\n",
    "\n",
    "best_val_loss = float('inf')\n",
    "best_model_path = os.path.join(output_dir, 'best_model.pth')\n",
    "best_epoch = -1\n",
    "best_fold = -1\n",
    "\n",
    "fold_val_true = []\n",
    "fold_val_pred = []\n",
    "fold_val_scores = []\n",
    "\n",
    "for fold, (train_idx, val_idx) in enumerate(kf.split(full_dataset)):\n",
    "    print(f'Fold {fold + 1}')\n",
    "    train_subset = Subset(full_dataset, train_idx)\n",
    "    val_subset = Subset(full_dataset, val_idx)\n",
    "    train_loader = DataLoader(train_subset, batch_size=32, shuffle=True)\n",
    "    val_loader = DataLoader(val_subset, batch_size=32, shuffle=False)\n",
    "    \n",
    "    model = build_model().to(device)\n",
    "    criterion = nn.CrossEntropyLoss()\n",
    "    optimizer = optim.Adam(model.parameters(), lr=0.001)\n",
    "    \n",
    "    fold_best_val_loss = float('inf')\n",
    "    fold_best_epoch = -1\n",
    "    fold_best_model_path = os.path.join(output_dir, f'best_model_fold_{fold + 1}.pth')\n",
    "\n",
    "    for epoch in range(20):\n",
    "        model.train()\n",
    "        train_loss = 0.0\n",
    "        for images, labels in tqdm(train_loader):\n",
    "            images, labels = images.to(device), labels.to(device)\n",
    "            optimizer.zero_grad()\n",
    "            outputs = model(images)\n",
    "            loss = criterion(outputs, labels)\n",
    "            loss.backward()\n",
    "            optimizer.step()\n",
    "            train_loss += loss.item() * images.size(0)\n",
    "        \n",
    "        train_loss /= len(train_loader.dataset)\n",
    "        \n",
    "        model.eval()\n",
    "        val_loss = 0.0\n",
    "        val_true = []\n",
    "        val_pred = []\n",
    "        val_scores = []\n",
    "        with torch.no_grad():\n",
    "            for images, labels in tqdm(val_loader):\n",
    "                images, labels = images.to(device), labels.to(device)\n",
    "                outputs = model(images)\n",
    "                loss = criterion(outputs, labels)\n",
    "                val_loss += loss.item() * images.size(0)\n",
    "                val_true.extend(labels.cpu().numpy())\n",
    "                val_pred.extend(outputs.argmax(dim=1).cpu().numpy())\n",
    "                val_scores.extend(torch.softmax(outputs, dim=1).cpu().numpy())\n",
    "        \n",
    "        val_loss /= len(val_loader.dataset)\n",
    "        \n",
    "        if val_loss < fold_best_val_loss:\n",
    "            fold_best_val_loss = val_loss\n",
    "            fold_best_epoch = epoch\n",
    "            torch.save(model.state_dict(), fold_best_model_path)\n",
    "        \n",
    "        print(f'Epoch {epoch+1}, Train Loss: {train_loss:.4f}, Val Loss: {val_loss:.4f}')\n",
    "    \n",
    "    if fold_best_val_loss < best_val_loss:\n",
    "        best_val_loss = fold_best_val_loss\n",
    "        best_epoch = fold_best_epoch\n",
    "        best_fold = fold + 1\n",
    "        torch.save(model.state_dict(), best_model_path)\n",
    "    \n",
    "    model.load_state_dict(torch.load(fold_best_model_path))\n",
    "    val_true = np.array(val_true)\n",
    "    val_pred = np.array(val_pred)\n",
    "    val_scores = np.array(val_scores)\n",
    "\n",
    "    fold_val_true.extend(val_true)\n",
    "    fold_val_pred.extend(val_pred)\n",
    "    fold_val_scores.extend(val_scores)\n",
    "    \n",
    "    accuracy = accuracy_score(val_true, val_pred)\n",
    "    precision = precision_score(val_true, val_pred, average='weighted')\n",
    "    recall = recall_score(val_true, val_pred, average='weighted')\n",
    "    f1 = f1_score(val_true, val_pred, average='weighted')\n",
    "    auc = roc_auc_score(val_true, val_scores, multi_class='ovo')\n",
    "    \n",
    "    print(f'Best model found at epoch {fold_best_epoch}')\n",
    "    print(f'Val Loss: {fold_best_val_loss:.4f} Acc: {accuracy:.4f} Precision: {precision:.4f} Recall: {recall:.4f} F1: {f1:.4f} AUC: {auc:.4f}')\n",
    "    \n",
    "    class_metrics = {}\n",
    "    for class_idx, class_name in enumerate(full_dataset.classes):\n",
    "        class_true = (val_true == class_idx).astype(int)\n",
    "        class_pred = (val_pred == class_idx).astype(int)\n",
    "        class_score = val_scores[:, class_idx]\n",
    "        \n",
    "        class_accuracy = accuracy_score(class_true, class_pred)\n",
    "        class_precision = precision_score(class_true, class_pred)\n",
    "        class_recall = recall_score(class_true, class_pred)\n",
    "        class_f1 = f1_score(class_true, class_pred)\n",
    "        class_auc = roc_auc_score(class_true, class_score)\n",
    "        \n",
    "        class_metrics[class_name] = {\n",
    "            'accuracy': class_accuracy,\n",
    "            'precision': class_precision,\n",
    "            'recall': class_recall,\n",
    "            'f1': class_f1,\n",
    "            'auc': class_auc\n",
    "        }\n",
    "        \n",
    "        print(f'Val Class {class_name} Acc: {class_accuracy:.4f} Precision: {class_precision:.4f} Recall: {class_recall:.4f} F1: {class_f1:.4f} AUC: {class_auc:.4f}')\n",
    "    \n",
    "    metrics.append({'fold': fold + 1, 'accuracy': accuracy, 'precision': precision, 'recall': recall, 'f1': f1, 'auc': auc, 'class_metrics': class_metrics, 'best_epoch': fold_best_epoch})\n",
    "\n",
    "# 保存五折交叉验证的指标\n",
    "metrics_df = pd.DataFrame(metrics)\n",
    "metrics_df.to_csv(os.path.join(output_dir, 'cross_validation_metrics.csv'), index=False)\n",
    "\n",
    "# 绘制五折交叉验证的ROC曲线\n",
    "plt.figure()\n",
    "for class_idx, class_name in enumerate(full_dataset.classes):\n",
    "    class_true = (np.array(fold_val_true) == class_idx).astype(int)\n",
    "    class_score = np.array(fold_val_scores)[:, class_idx]\n",
    "    \n",
    "    fpr, tpr, _ = roc_curve(class_true, class_score)\n",
    "    auc = roc_auc_score(class_true, class_score)\n",
    "    \n",
    "    plt.plot(fpr, tpr, label=f'{class_name} (area = {auc:.2f})')\n",
    "\n",
    "plt.plot([0, 1], [0, 1], 'k--')\n",
    "plt.xlim([0.0, 1.0])\n",
    "plt.ylim([0.0, 1.05])\n",
    "plt.xlabel('False Positive Rate')\n",
    "plt.ylabel('True Positive Rate')\n",
    "plt.title('Cross-Validation ROC Curve')\n",
    "plt.legend(loc=\"lower right\")\n",
    "plt.savefig(os.path.join(output_dir, 'cross_validation_roc_curve.pdf'))\n",
    "plt.close()\n",
    "\n",
    "# 绘制五折交叉验证的混淆矩阵\n",
    "cm = confusion_matrix(fold_val_true, fold_val_pred)\n",
    "plt.figure()\n",
    "sns.heatmap(cm, annot=True, fmt='d', cmap='Blues', xticklabels=class_names, yticklabels=class_names)\n",
    "plt.xlabel('Predicted')\n",
    "plt.ylabel('True')\n",
    "plt.title('Cross-Validation Confusion Matrix')\n",
    "plt.savefig(os.path.join(output_dir, 'cross_validation_confusion_matrix.pdf'))\n",
    "plt.close()\n",
    "\n",
    "# 加载最终最优模型并评估独立验证集\n",
    "model.load_state_dict(torch.load(best_model_path))\n",
    "model.eval()\n",
    "\n",
    "val_loader = DataLoader(val_dataset, batch_size=32, shuffle=False)\n",
    "val_true = []\n",
    "val_pred = []\n",
    "val_scores = []\n",
    "with torch.no_grad():\n",
    "    for images, labels in tqdm(val_loader):\n",
    "        images, labels = images.to(device), labels.to(device)\n",
    "        outputs = model(images)\n",
    "        val_true.extend(labels.cpu().numpy())\n",
    "        val_pred.extend(outputs.argmax(dim=1).cpu().numpy())\n",
    "        val_scores.extend(torch.softmax(outputs, dim=1).cpu().numpy())\n",
    "\n",
    "val_true = np.array(val_true)\n",
    "val_pred = np.array(val_pred)\n",
    "val_scores = np.array(val_scores)\n",
    "\n",
    "# 计算独立验证集的指标\n",
    "accuracy = accuracy_score(val_true, val_pred)\n",
    "precision = precision_score(val_true, val_pred, average='weighted')\n",
    "recall = recall_score(val_true, val_pred, average='weighted')\n",
    "f1 = f1_score(val_true, val_pred, average='weighted')\n",
    "auc = roc_auc_score(val_true, val_scores, multi_class='ovo')\n",
    "\n",
    "print(f'Validation Set Metrics:')\n",
    "print(f'Acc: {accuracy:.4f} Precision: {precision:.4f} Recall: {recall:.4f} F1: {f1:.4f} AUC: {auc:.4f}')\n",
    "\n",
    "# 保存独立验证集的指标\n",
    "val_metrics = {\n",
    "    'accuracy': accuracy,\n",
    "    'precision': precision,\n",
    "    'recall': recall,\n",
    "    'f1': f1,\n",
    "    'auc': auc,\n",
    "    'class_metrics': {}\n",
    "}\n",
    "\n",
    "for class_idx, class_name in enumerate(val_dataset.classes):\n",
    "    class_true = (val_true == class_idx).astype(int)\n",
    "    class_pred = (val_pred == class_idx).astype(int)\n",
    "    class_score = val_scores[:, class_idx]\n",
    "    \n",
    "    class_accuracy = accuracy_score(class_true, class_pred)\n",
    "    class_precision = precision_score(class_true, class_pred)\n",
    "    class_recall = recall_score(class_true, class_pred)\n",
    "    class_f1 = f1_score(class_true, class_pred)\n",
    "    class_auc = roc_auc_score(class_true, class_score)\n",
    "    \n",
    "    val_metrics['class_metrics'][class_name] = {\n",
    "        'accuracy': class_accuracy,\n",
    "        'precision': class_precision,\n",
    "        'recall': class_recall,\n",
    "        'f1': class_f1,\n",
    "        'auc': class_auc\n",
    "    }\n",
    "    \n",
    "    print(f'Val Class {class_name} Acc: {class_accuracy:.4f} Precision: {class_precision:.4f} Recall: {class_recall:.4f} F1: {class_f1:.4f} AUC: {class_auc:.4f}')\n",
    "\n",
    "# 保存独立验证集的指标\n",
    "with open(os.path.join(output_dir, 'validation_metrics.csv'), 'w') as f:\n",
    "    for key in val_metrics.keys():\n",
    "        f.write(f\"{key},{val_metrics[key]}\\n\")\n",
    "\n",
    "# 绘制独立验证集的ROC曲线\n",
    "plt.figure()\n",
    "for class_idx, class_name in enumerate(val_dataset.classes):\n",
    "    class_true = (val_true == class_idx).astype(int)\n",
    "    class_score = val_scores[:, class_idx]\n",
    "    \n",
    "    fpr, tpr, _ = roc_curve(class_true, class_score)\n",
    "    auc = roc_auc_score(class_true, class_score)\n",
    "    \n",
    "    plt.plot(fpr, tpr, label=f'{class_name} (area = {auc:.2f})')\n",
    "\n",
    "plt.plot([0, 1], [0, 1], 'k--')\n",
    "plt.xlim([0.0, 1.0])\n",
    "plt.ylim([0.0, 1.05])\n",
    "plt.xlabel('False Positive Rate')\n",
    "plt.ylabel('True Positive Rate')\n",
    "plt.title('Validation ROC Curve')\n",
    "plt.legend(loc=\"lower right\")\n",
    "plt.savefig(os.path.join(output_dir, 'validation_roc_curve.pdf'))\n",
    "plt.close()\n",
    "\n",
    "# 绘制独立验证集的混淆矩阵\n",
    "cm = confusion_matrix(val_true, val_pred)\n",
    "plt.figure()\n",
    "sns.heatmap(cm, annot=True, fmt='d', cmap='Blues', xticklabels=class_names, yticklabels=class_names)\n",
    "plt.xlabel('Predicted')\n",
    "plt.ylabel('True')\n",
    "plt.title('Validation Confusion Matrix')\n",
    "plt.savefig(os.path.join(output_dir, 'validation_confusion_matrix.pdf'))\n",
    "plt.close()\n",
    "\n",
    "# 输出最终最优模型的折数和最佳轮次\n",
    "print(f'The best model was found in fold {best_fold} at epoch {best_epoch}')\n"
   ]
  },
  {
   "cell_type": "code",
   "execution_count": null,
   "id": "6defb6ae-50d3-4633-be89-62656a630b9f",
   "metadata": {},
   "outputs": [],
   "source": []
  }
 ],
 "metadata": {
  "kernelspec": {
   "display_name": "Python 3 (ipykernel)",
   "language": "python",
   "name": "python3"
  },
  "language_info": {
   "codemirror_mode": {
    "name": "ipython",
    "version": 3
   },
   "file_extension": ".py",
   "mimetype": "text/x-python",
   "name": "python",
   "nbconvert_exporter": "python",
   "pygments_lexer": "ipython3",
   "version": "3.8.10"
  }
 },
 "nbformat": 4,
 "nbformat_minor": 5
}
